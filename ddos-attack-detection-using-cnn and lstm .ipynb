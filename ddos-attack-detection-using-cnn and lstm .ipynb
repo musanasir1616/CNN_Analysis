{
 "cells": [
  {
   "cell_type": "code",
   "execution_count": 1,
   "id": "5c5917ce",
   "metadata": {
    "_cell_guid": "b1076dfc-b9ad-4769-8c92-a6c4dae69d19",
    "_uuid": "8f2839f25d086af736a60e9eeb907d3b93b6e0e5",
    "papermill": {
     "duration": 17.473675,
     "end_time": "2024-04-14T15:15:35.151563",
     "exception": false,
     "start_time": "2024-04-14T15:15:17.677888",
     "status": "completed"
    },
    "tags": []
   },
   "outputs": [
    {
     "ename": "ModuleNotFoundError",
     "evalue": "No module named 'tensorflow'",
     "output_type": "error",
     "traceback": [
      "\u001b[1;31m---------------------------------------------------------------------------\u001b[0m",
      "\u001b[1;31mModuleNotFoundError\u001b[0m                       Traceback (most recent call last)",
      "Cell \u001b[1;32mIn[1], line 8\u001b[0m\n\u001b[0;32m      6\u001b[0m \u001b[38;5;28;01mfrom\u001b[39;00m \u001b[38;5;21;01msklearn\u001b[39;00m\u001b[38;5;21;01m.\u001b[39;00m\u001b[38;5;21;01mpreprocessing\u001b[39;00m \u001b[38;5;28;01mimport\u001b[39;00m LabelEncoder\n\u001b[0;32m      7\u001b[0m \u001b[38;5;28;01mfrom\u001b[39;00m \u001b[38;5;21;01msklearn\u001b[39;00m\u001b[38;5;21;01m.\u001b[39;00m\u001b[38;5;21;01mmodel_selection\u001b[39;00m \u001b[38;5;28;01mimport\u001b[39;00m train_test_split\n\u001b[1;32m----> 8\u001b[0m \u001b[38;5;28;01mimport\u001b[39;00m \u001b[38;5;21;01mtensorflow\u001b[39;00m \u001b[38;5;28;01mas\u001b[39;00m \u001b[38;5;21;01mtf\u001b[39;00m\n\u001b[0;32m      9\u001b[0m \u001b[38;5;28;01mfrom\u001b[39;00m \u001b[38;5;21;01mtensorflow\u001b[39;00m\u001b[38;5;21;01m.\u001b[39;00m\u001b[38;5;21;01mkeras\u001b[39;00m \u001b[38;5;28;01mimport\u001b[39;00m Sequential\n\u001b[0;32m     10\u001b[0m \u001b[38;5;28;01mfrom\u001b[39;00m \u001b[38;5;21;01mtensorflow\u001b[39;00m\u001b[38;5;21;01m.\u001b[39;00m\u001b[38;5;21;01mkeras\u001b[39;00m\u001b[38;5;21;01m.\u001b[39;00m\u001b[38;5;21;01mlayers\u001b[39;00m \u001b[38;5;28;01mimport\u001b[39;00m Dense, Input\n",
      "\u001b[1;31mModuleNotFoundError\u001b[0m: No module named 'tensorflow'"
     ]
    }
   ],
   "source": [
    "\n",
    "import numpy as np \n",
    "import pandas as pd \n",
    "import re\n",
    "import matplotlib.pyplot as plt\n",
    "import seaborn as sns\n",
    "from sklearn.preprocessing import LabelEncoder\n",
    "from sklearn.model_selection import train_test_split\n",
    "import tensorflow as tf\n",
    "from tensorflow.keras import Sequential\n",
    "from tensorflow.keras.layers import Dense, Input\n",
    "from tensorflow.keras.losses import BinaryCrossentropy\n",
    "from tensorflow.keras.optimizers import Adam\n",
    "from tensorflow.keras.regularizers import L2\n",
    "import xgboost as xgb\n",
    "from sklearn.metrics import accuracy_score"
   ]
  },
  {
   "cell_type": "markdown",
   "id": "d822f025",
   "metadata": {
    "papermill": {
     "duration": 0.025665,
     "end_time": "2024-04-14T15:15:35.202111",
     "exception": false,
     "start_time": "2024-04-14T15:15:35.176446",
     "status": "completed"
    },
    "tags": []
   },
   "source": [
    "**Distributed Denial of Service:** it's a cybersecurity menace which disrupts online services by sending an overwhelming amount of network traffic. These attacks are manually started with botnets that flood the target network. These attacks could have either of the following characteristics:\n",
    "* The botnet sends a massive number of requests to the hosting servers.\n",
    "* The botnet sends a high volume of random data packets, thus incapacitating the network.\n",
    "\n",
    "These descriptions provide details about various attributes present in the dataset:\n",
    "* **ip.src:** Source IP address\n",
    "* **tcp.srcport:** Source port number for TCP (Transmission Control Protocol).\n",
    "* **tcp.dstport:** Destination port number for TCP.\n",
    "* **ip.proto:** IP protocol used (e.g., TCP, UDP).\n",
    "* **frame.len:** Length of the network frame.\n",
    "* **tcp.flags.syn:** TCP SYN flag.\n",
    "* **tcp.flags.reset:** TCP RST flag.\n",
    "* **tcp.flags.push:** TCP PUSH flag.\n",
    "* **tcp.flags.ack:** TCP ACK flag.\n",
    "* **ip.flags.mf:** IP More Fragments flag.\n",
    "* **ip.flags.df:** IP Do Not Fragment flag.\n",
    "* **ip.flags.rb:** Reserved bits in the IP header.\n",
    "* **tcp.seq:** TCP sequence number.\n",
    "* **tcp.ack:** TCP acknowledgment number.\n",
    "* **frame.time:** Timestamp of the network frame.\n",
    "* **Packets:** Number of packets in the network frame.\n",
    "* **Bytes:** Number of bytes in the network frame.\n",
    "* **Tx Packets:** Number of transmitted packets.\n",
    "* **Tx Bytes:** Number of transmitted bytes.\n",
    "* **Rx Packets:** Number of received packets.\n",
    "* **Rx Bytes:** Number of received bytes.\n",
    "* **Label:** The label or category assigned to the network event (e.g., 'DDoS-PSH-ACK', 'Benign', 'DDoS-ACK')."
   ]
  },
  {
   "cell_type": "markdown",
   "id": "47020746",
   "metadata": {
    "papermill": {
     "duration": 0.024319,
     "end_time": "2024-04-14T15:15:35.250647",
     "exception": false,
     "start_time": "2024-04-14T15:15:35.226328",
     "status": "completed"
    },
    "tags": []
   },
   "source": [
    "# Data Exploration & Cleaning:"
   ]
  },
  {
   "cell_type": "code",
   "execution_count": 3,
   "id": "ac6aff93",
   "metadata": {
    "papermill": {
     "duration": 1.242093,
     "end_time": "2024-04-14T15:15:36.516979",
     "exception": false,
     "start_time": "2024-04-14T15:15:35.274886",
     "status": "completed"
    },
    "tags": []
   },
   "outputs": [
    {
     "ename": "FileNotFoundError",
     "evalue": "[Errno 2] No such file or directory: 'ciciot2023.parquet'",
     "output_type": "error",
     "traceback": [
      "\u001b[1;31m---------------------------------------------------------------------------\u001b[0m",
      "\u001b[1;31mFileNotFoundError\u001b[0m                         Traceback (most recent call last)",
      "Cell \u001b[1;32mIn[3], line 1\u001b[0m\n\u001b[1;32m----> 1\u001b[0m ddos_data\u001b[38;5;241m=\u001b[39m\u001b[43mpd\u001b[49m\u001b[38;5;241;43m.\u001b[39;49m\u001b[43mread_parquet\u001b[49m\u001b[43m(\u001b[49m\u001b[38;5;124;43m\"\u001b[39;49m\u001b[38;5;124;43mciciot2023.parquet\u001b[39;49m\u001b[38;5;124;43m\"\u001b[39;49m\u001b[43m)\u001b[49m\n\u001b[0;32m      2\u001b[0m ddos_data\n",
      "File \u001b[1;32m~\\anaconda3\\Lib\\site-packages\\pandas\\io\\parquet.py:667\u001b[0m, in \u001b[0;36mread_parquet\u001b[1;34m(path, engine, columns, storage_options, use_nullable_dtypes, dtype_backend, filesystem, filters, **kwargs)\u001b[0m\n\u001b[0;32m    664\u001b[0m     use_nullable_dtypes \u001b[38;5;241m=\u001b[39m \u001b[38;5;28;01mFalse\u001b[39;00m\n\u001b[0;32m    665\u001b[0m check_dtype_backend(dtype_backend)\n\u001b[1;32m--> 667\u001b[0m \u001b[38;5;28;01mreturn\u001b[39;00m \u001b[43mimpl\u001b[49m\u001b[38;5;241;43m.\u001b[39;49m\u001b[43mread\u001b[49m\u001b[43m(\u001b[49m\n\u001b[0;32m    668\u001b[0m \u001b[43m    \u001b[49m\u001b[43mpath\u001b[49m\u001b[43m,\u001b[49m\n\u001b[0;32m    669\u001b[0m \u001b[43m    \u001b[49m\u001b[43mcolumns\u001b[49m\u001b[38;5;241;43m=\u001b[39;49m\u001b[43mcolumns\u001b[49m\u001b[43m,\u001b[49m\n\u001b[0;32m    670\u001b[0m \u001b[43m    \u001b[49m\u001b[43mfilters\u001b[49m\u001b[38;5;241;43m=\u001b[39;49m\u001b[43mfilters\u001b[49m\u001b[43m,\u001b[49m\n\u001b[0;32m    671\u001b[0m \u001b[43m    \u001b[49m\u001b[43mstorage_options\u001b[49m\u001b[38;5;241;43m=\u001b[39;49m\u001b[43mstorage_options\u001b[49m\u001b[43m,\u001b[49m\n\u001b[0;32m    672\u001b[0m \u001b[43m    \u001b[49m\u001b[43muse_nullable_dtypes\u001b[49m\u001b[38;5;241;43m=\u001b[39;49m\u001b[43muse_nullable_dtypes\u001b[49m\u001b[43m,\u001b[49m\n\u001b[0;32m    673\u001b[0m \u001b[43m    \u001b[49m\u001b[43mdtype_backend\u001b[49m\u001b[38;5;241;43m=\u001b[39;49m\u001b[43mdtype_backend\u001b[49m\u001b[43m,\u001b[49m\n\u001b[0;32m    674\u001b[0m \u001b[43m    \u001b[49m\u001b[43mfilesystem\u001b[49m\u001b[38;5;241;43m=\u001b[39;49m\u001b[43mfilesystem\u001b[49m\u001b[43m,\u001b[49m\n\u001b[0;32m    675\u001b[0m \u001b[43m    \u001b[49m\u001b[38;5;241;43m*\u001b[39;49m\u001b[38;5;241;43m*\u001b[39;49m\u001b[43mkwargs\u001b[49m\u001b[43m,\u001b[49m\n\u001b[0;32m    676\u001b[0m \u001b[43m\u001b[49m\u001b[43m)\u001b[49m\n",
      "File \u001b[1;32m~\\anaconda3\\Lib\\site-packages\\pandas\\io\\parquet.py:267\u001b[0m, in \u001b[0;36mPyArrowImpl.read\u001b[1;34m(self, path, columns, filters, use_nullable_dtypes, dtype_backend, storage_options, filesystem, **kwargs)\u001b[0m\n\u001b[0;32m    264\u001b[0m \u001b[38;5;28;01mif\u001b[39;00m manager \u001b[38;5;241m==\u001b[39m \u001b[38;5;124m\"\u001b[39m\u001b[38;5;124marray\u001b[39m\u001b[38;5;124m\"\u001b[39m:\n\u001b[0;32m    265\u001b[0m     to_pandas_kwargs[\u001b[38;5;124m\"\u001b[39m\u001b[38;5;124msplit_blocks\u001b[39m\u001b[38;5;124m\"\u001b[39m] \u001b[38;5;241m=\u001b[39m \u001b[38;5;28;01mTrue\u001b[39;00m  \u001b[38;5;66;03m# type: ignore[assignment]\u001b[39;00m\n\u001b[1;32m--> 267\u001b[0m path_or_handle, handles, filesystem \u001b[38;5;241m=\u001b[39m \u001b[43m_get_path_or_handle\u001b[49m\u001b[43m(\u001b[49m\n\u001b[0;32m    268\u001b[0m \u001b[43m    \u001b[49m\u001b[43mpath\u001b[49m\u001b[43m,\u001b[49m\n\u001b[0;32m    269\u001b[0m \u001b[43m    \u001b[49m\u001b[43mfilesystem\u001b[49m\u001b[43m,\u001b[49m\n\u001b[0;32m    270\u001b[0m \u001b[43m    \u001b[49m\u001b[43mstorage_options\u001b[49m\u001b[38;5;241;43m=\u001b[39;49m\u001b[43mstorage_options\u001b[49m\u001b[43m,\u001b[49m\n\u001b[0;32m    271\u001b[0m \u001b[43m    \u001b[49m\u001b[43mmode\u001b[49m\u001b[38;5;241;43m=\u001b[39;49m\u001b[38;5;124;43m\"\u001b[39;49m\u001b[38;5;124;43mrb\u001b[39;49m\u001b[38;5;124;43m\"\u001b[39;49m\u001b[43m,\u001b[49m\n\u001b[0;32m    272\u001b[0m \u001b[43m\u001b[49m\u001b[43m)\u001b[49m\n\u001b[0;32m    273\u001b[0m \u001b[38;5;28;01mtry\u001b[39;00m:\n\u001b[0;32m    274\u001b[0m     pa_table \u001b[38;5;241m=\u001b[39m \u001b[38;5;28mself\u001b[39m\u001b[38;5;241m.\u001b[39mapi\u001b[38;5;241m.\u001b[39mparquet\u001b[38;5;241m.\u001b[39mread_table(\n\u001b[0;32m    275\u001b[0m         path_or_handle,\n\u001b[0;32m    276\u001b[0m         columns\u001b[38;5;241m=\u001b[39mcolumns,\n\u001b[1;32m   (...)\u001b[0m\n\u001b[0;32m    279\u001b[0m         \u001b[38;5;241m*\u001b[39m\u001b[38;5;241m*\u001b[39mkwargs,\n\u001b[0;32m    280\u001b[0m     )\n",
      "File \u001b[1;32m~\\anaconda3\\Lib\\site-packages\\pandas\\io\\parquet.py:140\u001b[0m, in \u001b[0;36m_get_path_or_handle\u001b[1;34m(path, fs, storage_options, mode, is_dir)\u001b[0m\n\u001b[0;32m    130\u001b[0m handles \u001b[38;5;241m=\u001b[39m \u001b[38;5;28;01mNone\u001b[39;00m\n\u001b[0;32m    131\u001b[0m \u001b[38;5;28;01mif\u001b[39;00m (\n\u001b[0;32m    132\u001b[0m     \u001b[38;5;129;01mnot\u001b[39;00m fs\n\u001b[0;32m    133\u001b[0m     \u001b[38;5;129;01mand\u001b[39;00m \u001b[38;5;129;01mnot\u001b[39;00m is_dir\n\u001b[1;32m   (...)\u001b[0m\n\u001b[0;32m    138\u001b[0m     \u001b[38;5;66;03m# fsspec resources can also point to directories\u001b[39;00m\n\u001b[0;32m    139\u001b[0m     \u001b[38;5;66;03m# this branch is used for example when reading from non-fsspec URLs\u001b[39;00m\n\u001b[1;32m--> 140\u001b[0m     handles \u001b[38;5;241m=\u001b[39m \u001b[43mget_handle\u001b[49m\u001b[43m(\u001b[49m\n\u001b[0;32m    141\u001b[0m \u001b[43m        \u001b[49m\u001b[43mpath_or_handle\u001b[49m\u001b[43m,\u001b[49m\u001b[43m \u001b[49m\u001b[43mmode\u001b[49m\u001b[43m,\u001b[49m\u001b[43m \u001b[49m\u001b[43mis_text\u001b[49m\u001b[38;5;241;43m=\u001b[39;49m\u001b[38;5;28;43;01mFalse\u001b[39;49;00m\u001b[43m,\u001b[49m\u001b[43m \u001b[49m\u001b[43mstorage_options\u001b[49m\u001b[38;5;241;43m=\u001b[39;49m\u001b[43mstorage_options\u001b[49m\n\u001b[0;32m    142\u001b[0m \u001b[43m    \u001b[49m\u001b[43m)\u001b[49m\n\u001b[0;32m    143\u001b[0m     fs \u001b[38;5;241m=\u001b[39m \u001b[38;5;28;01mNone\u001b[39;00m\n\u001b[0;32m    144\u001b[0m     path_or_handle \u001b[38;5;241m=\u001b[39m handles\u001b[38;5;241m.\u001b[39mhandle\n",
      "File \u001b[1;32m~\\anaconda3\\Lib\\site-packages\\pandas\\io\\common.py:882\u001b[0m, in \u001b[0;36mget_handle\u001b[1;34m(path_or_buf, mode, encoding, compression, memory_map, is_text, errors, storage_options)\u001b[0m\n\u001b[0;32m    873\u001b[0m         handle \u001b[38;5;241m=\u001b[39m \u001b[38;5;28mopen\u001b[39m(\n\u001b[0;32m    874\u001b[0m             handle,\n\u001b[0;32m    875\u001b[0m             ioargs\u001b[38;5;241m.\u001b[39mmode,\n\u001b[1;32m   (...)\u001b[0m\n\u001b[0;32m    878\u001b[0m             newline\u001b[38;5;241m=\u001b[39m\u001b[38;5;124m\"\u001b[39m\u001b[38;5;124m\"\u001b[39m,\n\u001b[0;32m    879\u001b[0m         )\n\u001b[0;32m    880\u001b[0m     \u001b[38;5;28;01melse\u001b[39;00m:\n\u001b[0;32m    881\u001b[0m         \u001b[38;5;66;03m# Binary mode\u001b[39;00m\n\u001b[1;32m--> 882\u001b[0m         handle \u001b[38;5;241m=\u001b[39m \u001b[38;5;28;43mopen\u001b[39;49m\u001b[43m(\u001b[49m\u001b[43mhandle\u001b[49m\u001b[43m,\u001b[49m\u001b[43m \u001b[49m\u001b[43mioargs\u001b[49m\u001b[38;5;241;43m.\u001b[39;49m\u001b[43mmode\u001b[49m\u001b[43m)\u001b[49m\n\u001b[0;32m    883\u001b[0m     handles\u001b[38;5;241m.\u001b[39mappend(handle)\n\u001b[0;32m    885\u001b[0m \u001b[38;5;66;03m# Convert BytesIO or file objects passed with an encoding\u001b[39;00m\n",
      "\u001b[1;31mFileNotFoundError\u001b[0m: [Errno 2] No such file or directory: 'ciciot2023.parquet'"
     ]
    }
   ],
   "source": [
    "ddos_data=pd.read_csv(\"ciciot2023.csv\")\n",
    "ddos_data"
   ]
  },
  {
   "cell_type": "code",
   "execution_count": 3,
   "id": "7b1d6073",
   "metadata": {},
   "outputs": [],
   "source": [
    "ddos_data = ddos_data.sample(100000)"
   ]
  },
  {
   "cell_type": "code",
   "execution_count": 4,
   "id": "cde73ef2",
   "metadata": {},
   "outputs": [],
   "source": [
    "ddos_data.reset_index(drop=True , inplace= True)"
   ]
  },
  {
   "cell_type": "code",
   "execution_count": 5,
   "id": "95d3ba97",
   "metadata": {
    "execution": {
     "iopub.execute_input": "2024-04-14T15:15:36.568948Z",
     "iopub.status.busy": "2024-04-14T15:15:36.568502Z",
     "iopub.status.idle": "2024-04-14T15:15:36.576067Z",
     "shell.execute_reply": "2024-04-14T15:15:36.575031Z"
    },
    "papermill": {
     "duration": 0.036917,
     "end_time": "2024-04-14T15:15:36.578612",
     "exception": false,
     "start_time": "2024-04-14T15:15:36.541695",
     "status": "completed"
    },
    "tags": []
   },
   "outputs": [
    {
     "data": {
      "text/plain": [
       "Index(['ip.src', 'ip.dst', 'tcp.srcport', 'tcp.dstport', 'ip.proto',\n",
       "       'frame.len', 'tcp.flags.syn', 'tcp.flags.reset', 'tcp.flags.push',\n",
       "       'tcp.flags.ack', 'ip.flags.mf', 'ip.flags.df', 'ip.flags.rb', 'tcp.seq',\n",
       "       'tcp.ack', 'frame.time', 'Packets', 'Bytes', 'Tx Packets', 'Tx Bytes',\n",
       "       'Rx Packets', 'Rx Bytes', 'Label'],\n",
       "      dtype='object')"
      ]
     },
     "execution_count": 5,
     "metadata": {},
     "output_type": "execute_result"
    }
   ],
   "source": [
    "ddos_data.columns"
   ]
  },
  {
   "cell_type": "code",
   "execution_count": 6,
   "id": "d1a951f2",
   "metadata": {
    "execution": {
     "iopub.execute_input": "2024-04-14T15:15:36.630742Z",
     "iopub.status.busy": "2024-04-14T15:15:36.629948Z",
     "iopub.status.idle": "2024-04-14T15:15:36.722171Z",
     "shell.execute_reply": "2024-04-14T15:15:36.720831Z"
    },
    "papermill": {
     "duration": 0.121549,
     "end_time": "2024-04-14T15:15:36.725145",
     "exception": false,
     "start_time": "2024-04-14T15:15:36.603596",
     "status": "completed"
    },
    "tags": []
   },
   "outputs": [
    {
     "name": "stdout",
     "output_type": "stream",
     "text": [
      "<class 'pandas.core.frame.DataFrame'>\n",
      "RangeIndex: 100000 entries, 0 to 99999\n",
      "Data columns (total 23 columns):\n",
      " #   Column           Non-Null Count   Dtype \n",
      "---  ------           --------------   ----- \n",
      " 0   ip.src           100000 non-null  object\n",
      " 1   ip.dst           100000 non-null  object\n",
      " 2   tcp.srcport      100000 non-null  int64 \n",
      " 3   tcp.dstport      100000 non-null  int64 \n",
      " 4   ip.proto         100000 non-null  int64 \n",
      " 5   frame.len        100000 non-null  int64 \n",
      " 6   tcp.flags.syn    100000 non-null  int64 \n",
      " 7   tcp.flags.reset  100000 non-null  int64 \n",
      " 8   tcp.flags.push   100000 non-null  int64 \n",
      " 9   tcp.flags.ack    100000 non-null  int64 \n",
      " 10  ip.flags.mf      100000 non-null  int64 \n",
      " 11  ip.flags.df      100000 non-null  int64 \n",
      " 12  ip.flags.rb      100000 non-null  int64 \n",
      " 13  tcp.seq          100000 non-null  int64 \n",
      " 14  tcp.ack          100000 non-null  int64 \n",
      " 15  frame.time       100000 non-null  object\n",
      " 16  Packets          100000 non-null  int64 \n",
      " 17  Bytes            100000 non-null  int64 \n",
      " 18  Tx Packets       100000 non-null  int64 \n",
      " 19  Tx Bytes         100000 non-null  int64 \n",
      " 20  Rx Packets       100000 non-null  int64 \n",
      " 21  Rx Bytes         100000 non-null  int64 \n",
      " 22  Label            100000 non-null  object\n",
      "dtypes: int64(19), object(4)\n",
      "memory usage: 17.5+ MB\n"
     ]
    }
   ],
   "source": [
    "ddos_data.info()"
   ]
  },
  {
   "cell_type": "code",
   "execution_count": 7,
   "id": "1ae9d4dc",
   "metadata": {
    "execution": {
     "iopub.execute_input": "2024-04-14T15:15:36.777231Z",
     "iopub.status.busy": "2024-04-14T15:15:36.776817Z",
     "iopub.status.idle": "2024-04-14T15:15:36.908399Z",
     "shell.execute_reply": "2024-04-14T15:15:36.907182Z"
    },
    "papermill": {
     "duration": 0.160894,
     "end_time": "2024-04-14T15:15:36.911238",
     "exception": false,
     "start_time": "2024-04-14T15:15:36.750344",
     "status": "completed"
    },
    "tags": []
   },
   "outputs": [
    {
     "data": {
      "text/html": [
       "<div>\n",
       "<style scoped>\n",
       "    .dataframe tbody tr th:only-of-type {\n",
       "        vertical-align: middle;\n",
       "    }\n",
       "\n",
       "    .dataframe tbody tr th {\n",
       "        vertical-align: top;\n",
       "    }\n",
       "\n",
       "    .dataframe thead th {\n",
       "        text-align: right;\n",
       "    }\n",
       "</style>\n",
       "<table border=\"1\" class=\"dataframe\">\n",
       "  <thead>\n",
       "    <tr style=\"text-align: right;\">\n",
       "      <th></th>\n",
       "      <th>tcp.srcport</th>\n",
       "      <th>tcp.dstport</th>\n",
       "      <th>ip.proto</th>\n",
       "      <th>frame.len</th>\n",
       "      <th>tcp.flags.syn</th>\n",
       "      <th>tcp.flags.reset</th>\n",
       "      <th>tcp.flags.push</th>\n",
       "      <th>tcp.flags.ack</th>\n",
       "      <th>ip.flags.mf</th>\n",
       "      <th>ip.flags.df</th>\n",
       "      <th>ip.flags.rb</th>\n",
       "      <th>tcp.seq</th>\n",
       "      <th>tcp.ack</th>\n",
       "      <th>Packets</th>\n",
       "      <th>Bytes</th>\n",
       "      <th>Tx Packets</th>\n",
       "      <th>Tx Bytes</th>\n",
       "      <th>Rx Packets</th>\n",
       "      <th>Rx Bytes</th>\n",
       "    </tr>\n",
       "  </thead>\n",
       "  <tbody>\n",
       "    <tr>\n",
       "      <th>count</th>\n",
       "      <td>100000.000000</td>\n",
       "      <td>100000.0</td>\n",
       "      <td>100000.0</td>\n",
       "      <td>100000.000000</td>\n",
       "      <td>100000.0</td>\n",
       "      <td>100000.0</td>\n",
       "      <td>100000.000000</td>\n",
       "      <td>100000.0</td>\n",
       "      <td>100000.0</td>\n",
       "      <td>100000.000000</td>\n",
       "      <td>100000.0</td>\n",
       "      <td>100000.0</td>\n",
       "      <td>100000.0</td>\n",
       "      <td>100000.00000</td>\n",
       "      <td>100000.000000</td>\n",
       "      <td>100000.000000</td>\n",
       "      <td>100000.000000</td>\n",
       "      <td>100000.000000</td>\n",
       "      <td>100000.00000</td>\n",
       "    </tr>\n",
       "    <tr>\n",
       "      <th>mean</th>\n",
       "      <td>27386.112220</td>\n",
       "      <td>8000.0</td>\n",
       "      <td>6.0</td>\n",
       "      <td>98.998030</td>\n",
       "      <td>0.0</td>\n",
       "      <td>0.0</td>\n",
       "      <td>0.499790</td>\n",
       "      <td>1.0</td>\n",
       "      <td>0.0</td>\n",
       "      <td>0.499820</td>\n",
       "      <td>0.0</td>\n",
       "      <td>1.0</td>\n",
       "      <td>1.0</td>\n",
       "      <td>9.07832</td>\n",
       "      <td>799.092960</td>\n",
       "      <td>5.046570</td>\n",
       "      <td>390.522880</td>\n",
       "      <td>4.031750</td>\n",
       "      <td>408.57008</td>\n",
       "    </tr>\n",
       "    <tr>\n",
       "      <th>std</th>\n",
       "      <td>19642.333433</td>\n",
       "      <td>0.0</td>\n",
       "      <td>0.0</td>\n",
       "      <td>71.212252</td>\n",
       "      <td>0.0</td>\n",
       "      <td>0.0</td>\n",
       "      <td>0.500002</td>\n",
       "      <td>0.0</td>\n",
       "      <td>0.0</td>\n",
       "      <td>0.500002</td>\n",
       "      <td>0.0</td>\n",
       "      <td>0.0</td>\n",
       "      <td>0.0</td>\n",
       "      <td>2.13643</td>\n",
       "      <td>374.070657</td>\n",
       "      <td>1.356871</td>\n",
       "      <td>177.359073</td>\n",
       "      <td>0.966287</td>\n",
       "      <td>197.28494</td>\n",
       "    </tr>\n",
       "    <tr>\n",
       "      <th>min</th>\n",
       "      <td>1302.000000</td>\n",
       "      <td>8000.0</td>\n",
       "      <td>6.0</td>\n",
       "      <td>54.000000</td>\n",
       "      <td>0.0</td>\n",
       "      <td>0.0</td>\n",
       "      <td>0.000000</td>\n",
       "      <td>1.0</td>\n",
       "      <td>0.0</td>\n",
       "      <td>0.000000</td>\n",
       "      <td>0.0</td>\n",
       "      <td>1.0</td>\n",
       "      <td>1.0</td>\n",
       "      <td>1.00000</td>\n",
       "      <td>54.000000</td>\n",
       "      <td>1.000000</td>\n",
       "      <td>54.000000</td>\n",
       "      <td>0.000000</td>\n",
       "      <td>0.00000</td>\n",
       "    </tr>\n",
       "    <tr>\n",
       "      <th>25%</th>\n",
       "      <td>8637.000000</td>\n",
       "      <td>8000.0</td>\n",
       "      <td>6.0</td>\n",
       "      <td>54.000000</td>\n",
       "      <td>0.0</td>\n",
       "      <td>0.0</td>\n",
       "      <td>0.000000</td>\n",
       "      <td>1.0</td>\n",
       "      <td>0.0</td>\n",
       "      <td>0.000000</td>\n",
       "      <td>0.0</td>\n",
       "      <td>1.0</td>\n",
       "      <td>1.0</td>\n",
       "      <td>8.00000</td>\n",
       "      <td>432.000000</td>\n",
       "      <td>4.000000</td>\n",
       "      <td>216.000000</td>\n",
       "      <td>4.000000</td>\n",
       "      <td>216.00000</td>\n",
       "    </tr>\n",
       "    <tr>\n",
       "      <th>50%</th>\n",
       "      <td>19659.500000</td>\n",
       "      <td>8000.0</td>\n",
       "      <td>6.0</td>\n",
       "      <td>54.000000</td>\n",
       "      <td>0.0</td>\n",
       "      <td>0.0</td>\n",
       "      <td>0.000000</td>\n",
       "      <td>1.0</td>\n",
       "      <td>0.0</td>\n",
       "      <td>0.000000</td>\n",
       "      <td>0.0</td>\n",
       "      <td>1.0</td>\n",
       "      <td>1.0</td>\n",
       "      <td>10.00000</td>\n",
       "      <td>972.000000</td>\n",
       "      <td>6.000000</td>\n",
       "      <td>486.000000</td>\n",
       "      <td>4.000000</td>\n",
       "      <td>486.00000</td>\n",
       "    </tr>\n",
       "    <tr>\n",
       "      <th>75%</th>\n",
       "      <td>45604.000000</td>\n",
       "      <td>8000.0</td>\n",
       "      <td>6.0</td>\n",
       "      <td>66.000000</td>\n",
       "      <td>0.0</td>\n",
       "      <td>0.0</td>\n",
       "      <td>1.000000</td>\n",
       "      <td>1.0</td>\n",
       "      <td>0.0</td>\n",
       "      <td>1.000000</td>\n",
       "      <td>0.0</td>\n",
       "      <td>1.0</td>\n",
       "      <td>1.0</td>\n",
       "      <td>10.00000</td>\n",
       "      <td>1146.000000</td>\n",
       "      <td>6.000000</td>\n",
       "      <td>560.000000</td>\n",
       "      <td>4.000000</td>\n",
       "      <td>586.00000</td>\n",
       "    </tr>\n",
       "    <tr>\n",
       "      <th>max</th>\n",
       "      <td>60998.000000</td>\n",
       "      <td>8000.0</td>\n",
       "      <td>6.0</td>\n",
       "      <td>223.000000</td>\n",
       "      <td>0.0</td>\n",
       "      <td>0.0</td>\n",
       "      <td>1.000000</td>\n",
       "      <td>1.0</td>\n",
       "      <td>0.0</td>\n",
       "      <td>1.000000</td>\n",
       "      <td>0.0</td>\n",
       "      <td>1.0</td>\n",
       "      <td>1.0</td>\n",
       "      <td>20.00000</td>\n",
       "      <td>1229.000000</td>\n",
       "      <td>10.000000</td>\n",
       "      <td>561.000000</td>\n",
       "      <td>10.000000</td>\n",
       "      <td>668.00000</td>\n",
       "    </tr>\n",
       "  </tbody>\n",
       "</table>\n",
       "</div>"
      ],
      "text/plain": [
       "         tcp.srcport  tcp.dstport  ip.proto      frame.len  tcp.flags.syn  \\\n",
       "count  100000.000000     100000.0  100000.0  100000.000000       100000.0   \n",
       "mean    27386.112220       8000.0       6.0      98.998030            0.0   \n",
       "std     19642.333433          0.0       0.0      71.212252            0.0   \n",
       "min      1302.000000       8000.0       6.0      54.000000            0.0   \n",
       "25%      8637.000000       8000.0       6.0      54.000000            0.0   \n",
       "50%     19659.500000       8000.0       6.0      54.000000            0.0   \n",
       "75%     45604.000000       8000.0       6.0      66.000000            0.0   \n",
       "max     60998.000000       8000.0       6.0     223.000000            0.0   \n",
       "\n",
       "       tcp.flags.reset  tcp.flags.push  tcp.flags.ack  ip.flags.mf  \\\n",
       "count         100000.0   100000.000000       100000.0     100000.0   \n",
       "mean               0.0        0.499790            1.0          0.0   \n",
       "std                0.0        0.500002            0.0          0.0   \n",
       "min                0.0        0.000000            1.0          0.0   \n",
       "25%                0.0        0.000000            1.0          0.0   \n",
       "50%                0.0        0.000000            1.0          0.0   \n",
       "75%                0.0        1.000000            1.0          0.0   \n",
       "max                0.0        1.000000            1.0          0.0   \n",
       "\n",
       "         ip.flags.df  ip.flags.rb   tcp.seq   tcp.ack       Packets  \\\n",
       "count  100000.000000     100000.0  100000.0  100000.0  100000.00000   \n",
       "mean        0.499820          0.0       1.0       1.0       9.07832   \n",
       "std         0.500002          0.0       0.0       0.0       2.13643   \n",
       "min         0.000000          0.0       1.0       1.0       1.00000   \n",
       "25%         0.000000          0.0       1.0       1.0       8.00000   \n",
       "50%         0.000000          0.0       1.0       1.0      10.00000   \n",
       "75%         1.000000          0.0       1.0       1.0      10.00000   \n",
       "max         1.000000          0.0       1.0       1.0      20.00000   \n",
       "\n",
       "               Bytes     Tx Packets       Tx Bytes     Rx Packets  \\\n",
       "count  100000.000000  100000.000000  100000.000000  100000.000000   \n",
       "mean      799.092960       5.046570     390.522880       4.031750   \n",
       "std       374.070657       1.356871     177.359073       0.966287   \n",
       "min        54.000000       1.000000      54.000000       0.000000   \n",
       "25%       432.000000       4.000000     216.000000       4.000000   \n",
       "50%       972.000000       6.000000     486.000000       4.000000   \n",
       "75%      1146.000000       6.000000     560.000000       4.000000   \n",
       "max      1229.000000      10.000000     561.000000      10.000000   \n",
       "\n",
       "           Rx Bytes  \n",
       "count  100000.00000  \n",
       "mean      408.57008  \n",
       "std       197.28494  \n",
       "min         0.00000  \n",
       "25%       216.00000  \n",
       "50%       486.00000  \n",
       "75%       586.00000  \n",
       "max       668.00000  "
      ]
     },
     "execution_count": 7,
     "metadata": {},
     "output_type": "execute_result"
    }
   ],
   "source": [
    "ddos_data.describe()"
   ]
  },
  {
   "cell_type": "code",
   "execution_count": 8,
   "id": "52b036c0",
   "metadata": {
    "execution": {
     "iopub.execute_input": "2024-04-14T15:15:36.964431Z",
     "iopub.status.busy": "2024-04-14T15:15:36.963960Z",
     "iopub.status.idle": "2024-04-14T15:15:36.997916Z",
     "shell.execute_reply": "2024-04-14T15:15:36.996825Z"
    },
    "papermill": {
     "duration": 0.063877,
     "end_time": "2024-04-14T15:15:37.000759",
     "exception": false,
     "start_time": "2024-04-14T15:15:36.936882",
     "status": "completed"
    },
    "tags": []
   },
   "outputs": [
    {
     "data": {
      "text/plain": [
       "Label\n",
       "Benign          49982\n",
       "DDoS-ACK        25023\n",
       "DDoS-PSH-ACK    24995\n",
       "Name: count, dtype: int64"
      ]
     },
     "execution_count": 8,
     "metadata": {},
     "output_type": "execute_result"
    }
   ],
   "source": [
    "label_counts=ddos_data['Label'].value_counts()\n",
    "label_counts"
   ]
  },
  {
   "cell_type": "code",
   "execution_count": 9,
   "id": "1fafa53f",
   "metadata": {
    "execution": {
     "iopub.execute_input": "2024-04-14T15:15:37.055094Z",
     "iopub.status.busy": "2024-04-14T15:15:37.054631Z",
     "iopub.status.idle": "2024-04-14T15:15:37.259156Z",
     "shell.execute_reply": "2024-04-14T15:15:37.257568Z"
    },
    "papermill": {
     "duration": 0.236388,
     "end_time": "2024-04-14T15:15:37.263602",
     "exception": false,
     "start_time": "2024-04-14T15:15:37.027214",
     "status": "completed"
    },
    "tags": []
   },
   "outputs": [
    {
     "data": {
      "image/png": "[encoded data removed]",
      "text/plain": [
       "<Figure size 300x300 with 1 Axes>"
      ]
     },
     "metadata": {},
     "output_type": "display_data"
    }
   ],
   "source": [
    "label_counts=ddos_data['Label'].value_counts()\n",
    "plt.figure(figsize=(3, 3))\n",
    "plt.pie(label_counts, labels=label_counts.index, autopct='%1.1f%%', startangle=140)\n",
    "plt.title('Distribution of DDoS Attack Types')\n",
    "plt.axis('equal')  # Equal aspect ratio ensures that pie is drawn as a circle.\n",
    "plt.show()"
   ]
  },
  {
   "cell_type": "markdown",
   "id": "69f16ecf",
   "metadata": {
    "papermill": {
     "duration": 0.02578,
     "end_time": "2024-04-14T15:15:37.340030",
     "exception": false,
     "start_time": "2024-04-14T15:15:37.314250",
     "status": "completed"
    },
    "tags": []
   },
   "source": [
    "**Benign:** This label indicates that the network event or traffic is considered normal and does not pose any threat. In other words, it represents benign or legitimate network activity.\n",
    "\n",
    "**DDoS-PSH-ACK:** This label represents a specific type of DDoS attack characterized by the TCP flags PSH (Push) and ACK (Acknowledgment). In this type of attack, the attacker sends a high volume of TCP packets with the PSH and ACK flags set, overwhelming the target server or network with a large number of connection requests.\n",
    "\n",
    "**DDoS-ACK:** This label indicates another type of DDoS attack where the attacker floods the target server or network with a massive number of TCP packets with only the ACK (Acknowledgment) flag set. This flood of ACK packets consumes resources on the target system, leading to service disruption or denial of service for legitimate users.\n",
    "\n",
    "The **PSH flag** indicates that the data should be pushed immediately to the application layer, which can cause the receiving system to process data more rapidly, potentially overwhelming its resources."
   ]
  },
  {
   "cell_type": "code",
   "execution_count": 10,
   "id": "1890729d",
   "metadata": {
    "execution": {
     "iopub.execute_input": "2024-04-14T15:15:37.393865Z",
     "iopub.status.busy": "2024-04-14T15:15:37.393440Z",
     "iopub.status.idle": "2024-04-14T15:15:37.427962Z",
     "shell.execute_reply": "2024-04-14T15:15:37.427154Z"
    },
    "papermill": {
     "duration": 0.06419,
     "end_time": "2024-04-14T15:15:37.430181",
     "exception": false,
     "start_time": "2024-04-14T15:15:37.365991",
     "status": "completed"
    },
    "tags": []
   },
   "outputs": [
    {
     "data": {
      "text/plain": [
       "ip.dst\n",
       "192.168.23.2    100000\n",
       "Name: count, dtype: int64"
      ]
     },
     "execution_count": 10,
     "metadata": {},
     "output_type": "execute_result"
    }
   ],
   "source": [
    "ddos_data['ip.dst'].value_counts()"
   ]
  },
  {
   "cell_type": "markdown",
   "id": "3f70272a",
   "metadata": {
    "papermill": {
     "duration": 0.025858,
     "end_time": "2024-04-14T15:15:37.482321",
     "exception": false,
     "start_time": "2024-04-14T15:15:37.456463",
     "status": "completed"
    },
    "tags": []
   },
   "source": [
    "Since, we're only working on one ip.dst we can drop this column."
   ]
  },
  {
   "cell_type": "code",
   "execution_count": 11,
   "id": "7867e3f3",
   "metadata": {
    "execution": {
     "iopub.execute_input": "2024-04-14T15:15:37.537451Z",
     "iopub.status.busy": "2024-04-14T15:15:37.536686Z",
     "iopub.status.idle": "2024-04-14T15:15:37.555249Z",
     "shell.execute_reply": "2024-04-14T15:15:37.553940Z"
    },
    "papermill": {
     "duration": 0.049675,
     "end_time": "2024-04-14T15:15:37.558398",
     "exception": false,
     "start_time": "2024-04-14T15:15:37.508723",
     "status": "completed"
    },
    "tags": []
   },
   "outputs": [],
   "source": [
    "ddos_data.drop('ip.dst',axis=1,inplace=True)"
   ]
  },
  {
   "cell_type": "code",
   "execution_count": 12,
   "id": "f79299cd",
   "metadata": {
    "execution": {
     "iopub.execute_input": "2024-04-14T15:15:37.616181Z",
     "iopub.status.busy": "2024-04-14T15:15:37.615307Z",
     "iopub.status.idle": "2024-04-14T15:15:37.690441Z",
     "shell.execute_reply": "2024-04-14T15:15:37.689260Z"
    },
    "papermill": {
     "duration": 0.105894,
     "end_time": "2024-04-14T15:15:37.693022",
     "exception": false,
     "start_time": "2024-04-14T15:15:37.587128",
     "status": "completed"
    },
    "tags": []
   },
   "outputs": [
    {
     "data": {
      "text/html": [
       "<div>\n",
       "<style scoped>\n",
       "    .dataframe tbody tr th:only-of-type {\n",
       "        vertical-align: middle;\n",
       "    }\n",
       "\n",
       "    .dataframe tbody tr th {\n",
       "        vertical-align: top;\n",
       "    }\n",
       "\n",
       "    .dataframe thead th {\n",
       "        text-align: right;\n",
       "    }\n",
       "</style>\n",
       "<table border=\"1\" class=\"dataframe\">\n",
       "  <thead>\n",
       "    <tr style=\"text-align: right;\">\n",
       "      <th></th>\n",
       "      <th>ip.src</th>\n",
       "      <th>tcp.srcport</th>\n",
       "      <th>tcp.dstport</th>\n",
       "      <th>ip.proto</th>\n",
       "      <th>frame.len</th>\n",
       "      <th>tcp.flags.syn</th>\n",
       "      <th>tcp.flags.reset</th>\n",
       "      <th>tcp.flags.push</th>\n",
       "      <th>tcp.flags.ack</th>\n",
       "      <th>ip.flags.mf</th>\n",
       "      <th>...</th>\n",
       "      <th>tcp.seq</th>\n",
       "      <th>tcp.ack</th>\n",
       "      <th>frame.time</th>\n",
       "      <th>Packets</th>\n",
       "      <th>Bytes</th>\n",
       "      <th>Tx Packets</th>\n",
       "      <th>Tx Bytes</th>\n",
       "      <th>Rx Packets</th>\n",
       "      <th>Rx Bytes</th>\n",
       "      <th>Label</th>\n",
       "    </tr>\n",
       "  </thead>\n",
       "  <tbody>\n",
       "    <tr>\n",
       "      <th>0</th>\n",
       "      <td>192.168.4.1</td>\n",
       "      <td>2945</td>\n",
       "      <td>8000</td>\n",
       "      <td>6</td>\n",
       "      <td>54</td>\n",
       "      <td>0</td>\n",
       "      <td>0</td>\n",
       "      <td>0</td>\n",
       "      <td>1</td>\n",
       "      <td>0</td>\n",
       "      <td>...</td>\n",
       "      <td>1</td>\n",
       "      <td>1</td>\n",
       "      <td>16-Jun 2020 21:59:28.843891000 Mountain Dayli...</td>\n",
       "      <td>8</td>\n",
       "      <td>432</td>\n",
       "      <td>4</td>\n",
       "      <td>216</td>\n",
       "      <td>4</td>\n",
       "      <td>216</td>\n",
       "      <td>DDoS-ACK</td>\n",
       "    </tr>\n",
       "    <tr>\n",
       "      <th>1</th>\n",
       "      <td>192.168.10.1</td>\n",
       "      <td>42276</td>\n",
       "      <td>8000</td>\n",
       "      <td>6</td>\n",
       "      <td>66</td>\n",
       "      <td>0</td>\n",
       "      <td>0</td>\n",
       "      <td>0</td>\n",
       "      <td>1</td>\n",
       "      <td>0</td>\n",
       "      <td>...</td>\n",
       "      <td>1</td>\n",
       "      <td>1</td>\n",
       "      <td>16-Jun 2020 22:08:20.919148000 Mountain Dayli...</td>\n",
       "      <td>10</td>\n",
       "      <td>1151</td>\n",
       "      <td>6</td>\n",
       "      <td>560</td>\n",
       "      <td>4</td>\n",
       "      <td>591</td>\n",
       "      <td>Benign</td>\n",
       "    </tr>\n",
       "    <tr>\n",
       "      <th>2</th>\n",
       "      <td>192.168.20.1</td>\n",
       "      <td>4517</td>\n",
       "      <td>8000</td>\n",
       "      <td>6</td>\n",
       "      <td>54</td>\n",
       "      <td>0</td>\n",
       "      <td>0</td>\n",
       "      <td>1</td>\n",
       "      <td>1</td>\n",
       "      <td>0</td>\n",
       "      <td>...</td>\n",
       "      <td>1</td>\n",
       "      <td>1</td>\n",
       "      <td>16-Jun 2020 20:26:54.471308000 Mountain Dayli...</td>\n",
       "      <td>8</td>\n",
       "      <td>432</td>\n",
       "      <td>4</td>\n",
       "      <td>216</td>\n",
       "      <td>4</td>\n",
       "      <td>216</td>\n",
       "      <td>DDoS-PSH-ACK</td>\n",
       "    </tr>\n",
       "    <tr>\n",
       "      <th>3</th>\n",
       "      <td>192.168.13.1</td>\n",
       "      <td>44652</td>\n",
       "      <td>8000</td>\n",
       "      <td>6</td>\n",
       "      <td>222</td>\n",
       "      <td>0</td>\n",
       "      <td>0</td>\n",
       "      <td>1</td>\n",
       "      <td>1</td>\n",
       "      <td>0</td>\n",
       "      <td>...</td>\n",
       "      <td>1</td>\n",
       "      <td>1</td>\n",
       "      <td>16-Jun 2020 20:24:49.885520000 Mountain Dayli...</td>\n",
       "      <td>10</td>\n",
       "      <td>1146</td>\n",
       "      <td>6</td>\n",
       "      <td>560</td>\n",
       "      <td>4</td>\n",
       "      <td>586</td>\n",
       "      <td>Benign</td>\n",
       "    </tr>\n",
       "    <tr>\n",
       "      <th>4</th>\n",
       "      <td>192.168.7.1</td>\n",
       "      <td>11815</td>\n",
       "      <td>8000</td>\n",
       "      <td>6</td>\n",
       "      <td>54</td>\n",
       "      <td>0</td>\n",
       "      <td>0</td>\n",
       "      <td>0</td>\n",
       "      <td>1</td>\n",
       "      <td>0</td>\n",
       "      <td>...</td>\n",
       "      <td>1</td>\n",
       "      <td>1</td>\n",
       "      <td>16-Jun 2020 22:01:09.235094000 Mountain Dayli...</td>\n",
       "      <td>8</td>\n",
       "      <td>432</td>\n",
       "      <td>4</td>\n",
       "      <td>216</td>\n",
       "      <td>4</td>\n",
       "      <td>216</td>\n",
       "      <td>DDoS-ACK</td>\n",
       "    </tr>\n",
       "    <tr>\n",
       "      <th>...</th>\n",
       "      <td>...</td>\n",
       "      <td>...</td>\n",
       "      <td>...</td>\n",
       "      <td>...</td>\n",
       "      <td>...</td>\n",
       "      <td>...</td>\n",
       "      <td>...</td>\n",
       "      <td>...</td>\n",
       "      <td>...</td>\n",
       "      <td>...</td>\n",
       "      <td>...</td>\n",
       "      <td>...</td>\n",
       "      <td>...</td>\n",
       "      <td>...</td>\n",
       "      <td>...</td>\n",
       "      <td>...</td>\n",
       "      <td>...</td>\n",
       "      <td>...</td>\n",
       "      <td>...</td>\n",
       "      <td>...</td>\n",
       "      <td>...</td>\n",
       "    </tr>\n",
       "    <tr>\n",
       "      <th>99995</th>\n",
       "      <td>192.168.4.1</td>\n",
       "      <td>6873</td>\n",
       "      <td>8000</td>\n",
       "      <td>6</td>\n",
       "      <td>54</td>\n",
       "      <td>0</td>\n",
       "      <td>0</td>\n",
       "      <td>0</td>\n",
       "      <td>1</td>\n",
       "      <td>0</td>\n",
       "      <td>...</td>\n",
       "      <td>1</td>\n",
       "      <td>1</td>\n",
       "      <td>16-Jun 2020 21:59:28.883088000 Mountain Dayli...</td>\n",
       "      <td>8</td>\n",
       "      <td>432</td>\n",
       "      <td>4</td>\n",
       "      <td>216</td>\n",
       "      <td>4</td>\n",
       "      <td>216</td>\n",
       "      <td>DDoS-ACK</td>\n",
       "    </tr>\n",
       "    <tr>\n",
       "      <th>99996</th>\n",
       "      <td>192.168.2.1</td>\n",
       "      <td>52504</td>\n",
       "      <td>8000</td>\n",
       "      <td>6</td>\n",
       "      <td>66</td>\n",
       "      <td>0</td>\n",
       "      <td>0</td>\n",
       "      <td>0</td>\n",
       "      <td>1</td>\n",
       "      <td>0</td>\n",
       "      <td>...</td>\n",
       "      <td>1</td>\n",
       "      <td>1</td>\n",
       "      <td>16-Jun 2020 21:59:18.882294000 Mountain Dayli...</td>\n",
       "      <td>10</td>\n",
       "      <td>1134</td>\n",
       "      <td>6</td>\n",
       "      <td>560</td>\n",
       "      <td>4</td>\n",
       "      <td>574</td>\n",
       "      <td>Benign</td>\n",
       "    </tr>\n",
       "    <tr>\n",
       "      <th>99997</th>\n",
       "      <td>192.168.16.1</td>\n",
       "      <td>40968</td>\n",
       "      <td>8000</td>\n",
       "      <td>6</td>\n",
       "      <td>222</td>\n",
       "      <td>0</td>\n",
       "      <td>0</td>\n",
       "      <td>1</td>\n",
       "      <td>1</td>\n",
       "      <td>0</td>\n",
       "      <td>...</td>\n",
       "      <td>1</td>\n",
       "      <td>1</td>\n",
       "      <td>16-Jun 2020 20:23:54.693378000 Mountain Dayli...</td>\n",
       "      <td>10</td>\n",
       "      <td>1146</td>\n",
       "      <td>6</td>\n",
       "      <td>560</td>\n",
       "      <td>4</td>\n",
       "      <td>586</td>\n",
       "      <td>Benign</td>\n",
       "    </tr>\n",
       "    <tr>\n",
       "      <th>99998</th>\n",
       "      <td>192.168.13.1</td>\n",
       "      <td>59880</td>\n",
       "      <td>8000</td>\n",
       "      <td>6</td>\n",
       "      <td>66</td>\n",
       "      <td>0</td>\n",
       "      <td>0</td>\n",
       "      <td>0</td>\n",
       "      <td>1</td>\n",
       "      <td>0</td>\n",
       "      <td>...</td>\n",
       "      <td>1</td>\n",
       "      <td>1</td>\n",
       "      <td>16-Jun 2020 22:06:46.939273000 Mountain Dayli...</td>\n",
       "      <td>10</td>\n",
       "      <td>1229</td>\n",
       "      <td>6</td>\n",
       "      <td>561</td>\n",
       "      <td>4</td>\n",
       "      <td>668</td>\n",
       "      <td>Benign</td>\n",
       "    </tr>\n",
       "    <tr>\n",
       "      <th>99999</th>\n",
       "      <td>192.168.20.1</td>\n",
       "      <td>1784</td>\n",
       "      <td>8000</td>\n",
       "      <td>6</td>\n",
       "      <td>54</td>\n",
       "      <td>0</td>\n",
       "      <td>0</td>\n",
       "      <td>1</td>\n",
       "      <td>1</td>\n",
       "      <td>0</td>\n",
       "      <td>...</td>\n",
       "      <td>1</td>\n",
       "      <td>1</td>\n",
       "      <td>16-Jun 2020 20:26:54.455468000 Mountain Dayli...</td>\n",
       "      <td>10</td>\n",
       "      <td>540</td>\n",
       "      <td>5</td>\n",
       "      <td>270</td>\n",
       "      <td>5</td>\n",
       "      <td>270</td>\n",
       "      <td>DDoS-PSH-ACK</td>\n",
       "    </tr>\n",
       "  </tbody>\n",
       "</table>\n",
       "<p>100000 rows × 22 columns</p>\n",
       "</div>"
      ],
      "text/plain": [
       "             ip.src  tcp.srcport  tcp.dstport  ip.proto  frame.len  \\\n",
       "0       192.168.4.1         2945         8000         6         54   \n",
       "1      192.168.10.1        42276         8000         6         66   \n",
       "2      192.168.20.1         4517         8000         6         54   \n",
       "3      192.168.13.1        44652         8000         6        222   \n",
       "4       192.168.7.1        11815         8000         6         54   \n",
       "...             ...          ...          ...       ...        ...   \n",
       "99995   192.168.4.1         6873         8000         6         54   \n",
       "99996   192.168.2.1        52504         8000         6         66   \n",
       "99997  192.168.16.1        40968         8000         6        222   \n",
       "99998  192.168.13.1        59880         8000         6         66   \n",
       "99999  192.168.20.1         1784         8000         6         54   \n",
       "\n",
       "       tcp.flags.syn  tcp.flags.reset  tcp.flags.push  tcp.flags.ack  \\\n",
       "0                  0                0               0              1   \n",
       "1                  0                0               0              1   \n",
       "2                  0                0               1              1   \n",
       "3                  0                0               1              1   \n",
       "4                  0                0               0              1   \n",
       "...              ...              ...             ...            ...   \n",
       "99995              0                0               0              1   \n",
       "99996              0                0               0              1   \n",
       "99997              0                0               1              1   \n",
       "99998              0                0               0              1   \n",
       "99999              0                0               1              1   \n",
       "\n",
       "       ip.flags.mf  ...  tcp.seq  tcp.ack  \\\n",
       "0                0  ...        1        1   \n",
       "1                0  ...        1        1   \n",
       "2                0  ...        1        1   \n",
       "3                0  ...        1        1   \n",
       "4                0  ...        1        1   \n",
       "...            ...  ...      ...      ...   \n",
       "99995            0  ...        1        1   \n",
       "99996            0  ...        1        1   \n",
       "99997            0  ...        1        1   \n",
       "99998            0  ...        1        1   \n",
       "99999            0  ...        1        1   \n",
       "\n",
       "                                              frame.time  Packets Bytes  \\\n",
       "0       16-Jun 2020 21:59:28.843891000 Mountain Dayli...        8   432   \n",
       "1       16-Jun 2020 22:08:20.919148000 Mountain Dayli...       10  1151   \n",
       "2       16-Jun 2020 20:26:54.471308000 Mountain Dayli...        8   432   \n",
       "3       16-Jun 2020 20:24:49.885520000 Mountain Dayli...       10  1146   \n",
       "4       16-Jun 2020 22:01:09.235094000 Mountain Dayli...        8   432   \n",
       "...                                                  ...      ...   ...   \n",
       "99995   16-Jun 2020 21:59:28.883088000 Mountain Dayli...        8   432   \n",
       "99996   16-Jun 2020 21:59:18.882294000 Mountain Dayli...       10  1134   \n",
       "99997   16-Jun 2020 20:23:54.693378000 Mountain Dayli...       10  1146   \n",
       "99998   16-Jun 2020 22:06:46.939273000 Mountain Dayli...       10  1229   \n",
       "99999   16-Jun 2020 20:26:54.455468000 Mountain Dayli...       10   540   \n",
       "\n",
       "       Tx Packets  Tx Bytes  Rx Packets  Rx Bytes         Label  \n",
       "0               4       216           4       216      DDoS-ACK  \n",
       "1               6       560           4       591        Benign  \n",
       "2               4       216           4       216  DDoS-PSH-ACK  \n",
       "3               6       560           4       586        Benign  \n",
       "4               4       216           4       216      DDoS-ACK  \n",
       "...           ...       ...         ...       ...           ...  \n",
       "99995           4       216           4       216      DDoS-ACK  \n",
       "99996           6       560           4       574        Benign  \n",
       "99997           6       560           4       586        Benign  \n",
       "99998           6       561           4       668        Benign  \n",
       "99999           5       270           5       270  DDoS-PSH-ACK  \n",
       "\n",
       "[100000 rows x 22 columns]"
      ]
     },
     "execution_count": 12,
     "metadata": {},
     "output_type": "execute_result"
    }
   ],
   "source": [
    "ddos_data"
   ]
  },
  {
   "cell_type": "markdown",
   "id": "e389f824",
   "metadata": {
    "papermill": {
     "duration": 0.027367,
     "end_time": "2024-04-14T15:15:37.748105",
     "exception": false,
     "start_time": "2024-04-14T15:15:37.720738",
     "status": "completed"
    },
    "tags": []
   },
   "source": [
    "It looks like we're analysing ddos attacks performed on only one ip address destination."
   ]
  },
  {
   "cell_type": "code",
   "execution_count": 13,
   "id": "66815483",
   "metadata": {
    "execution": {
     "iopub.execute_input": "2024-04-14T15:15:37.804996Z",
     "iopub.status.busy": "2024-04-14T15:15:37.804264Z",
     "iopub.status.idle": "2024-04-14T15:15:37.837872Z",
     "shell.execute_reply": "2024-04-14T15:15:37.836650Z"
    },
    "papermill": {
     "duration": 0.065189,
     "end_time": "2024-04-14T15:15:37.840317",
     "exception": false,
     "start_time": "2024-04-14T15:15:37.775128",
     "status": "completed"
    },
    "tags": []
   },
   "outputs": [
    {
     "data": {
      "text/plain": [
       "ip.src\n",
       "192.168.19.1    7209\n",
       "192.168.11.1    7172\n",
       "192.168.7.1     7169\n",
       "192.168.4.1     7167\n",
       "192.168.1.1     7146\n",
       "192.168.2.1     7139\n",
       "192.168.16.1    7137\n",
       "192.168.5.1     7133\n",
       "192.168.20.1    7132\n",
       "192.168.13.1    7127\n",
       "192.168.10.1    7123\n",
       "192.168.17.1    7123\n",
       "192.168.8.1     7114\n",
       "192.168.14.1    7109\n",
       "Name: count, dtype: int64"
      ]
     },
     "execution_count": 13,
     "metadata": {},
     "output_type": "execute_result"
    }
   ],
   "source": [
    "ddos_data['ip.src'].value_counts()"
   ]
  },
  {
   "cell_type": "markdown",
   "id": "a6793f26",
   "metadata": {
    "papermill": {
     "duration": 0.028831,
     "end_time": "2024-04-14T15:15:37.897236",
     "exception": false,
     "start_time": "2024-04-14T15:15:37.868405",
     "status": "completed"
    },
    "tags": []
   },
   "source": [
    "These IP addresses represent the botnets utilized for the DDoS attacks. The consistent count of occurrences (10800) for each IP address implies an even distribution of DDoS attack traffic across various botnets."
   ]
  },
  {
   "cell_type": "code",
   "execution_count": 14,
   "id": "d635f445",
   "metadata": {
    "execution": {
     "iopub.execute_input": "2024-04-14T15:15:37.954449Z",
     "iopub.status.busy": "2024-04-14T15:15:37.953740Z",
     "iopub.status.idle": "2024-04-14T15:15:37.968326Z",
     "shell.execute_reply": "2024-04-14T15:15:37.967523Z"
    },
    "papermill": {
     "duration": 0.046155,
     "end_time": "2024-04-14T15:15:37.970647",
     "exception": false,
     "start_time": "2024-04-14T15:15:37.924492",
     "status": "completed"
    },
    "tags": []
   },
   "outputs": [
    {
     "data": {
      "text/plain": [
       "tcp.srcport\n",
       "6460     10\n",
       "2790     10\n",
       "5047     10\n",
       "8414     10\n",
       "2828     10\n",
       "         ..\n",
       "7208      1\n",
       "13908     1\n",
       "55404     1\n",
       "16499     1\n",
       "1664      1\n",
       "Name: count, Length: 29758, dtype: int64"
      ]
     },
     "execution_count": 14,
     "metadata": {},
     "output_type": "execute_result"
    }
   ],
   "source": [
    "ddos_data['tcp.srcport'].value_counts()"
   ]
  },
  {
   "cell_type": "code",
   "execution_count": 15,
   "id": "e94c72a4",
   "metadata": {
    "execution": {
     "iopub.execute_input": "2024-04-14T15:15:38.092501Z",
     "iopub.status.busy": "2024-04-14T15:15:38.091671Z",
     "iopub.status.idle": "2024-04-14T15:15:38.217997Z",
     "shell.execute_reply": "2024-04-14T15:15:38.217150Z"
    },
    "papermill": {
     "duration": 0.157672,
     "end_time": "2024-04-14T15:15:38.220217",
     "exception": false,
     "start_time": "2024-04-14T15:15:38.062545",
     "status": "completed"
    },
    "tags": []
   },
   "outputs": [
    {
     "data": {
      "text/plain": [
       "Index(['tcp.dstport', 'ip.proto', 'tcp.flags.syn', 'tcp.flags.reset',\n",
       "       'tcp.flags.ack', 'ip.flags.mf', 'ip.flags.rb', 'tcp.seq', 'tcp.ack'],\n",
       "      dtype='object')"
      ]
     },
     "execution_count": 15,
     "metadata": {},
     "output_type": "execute_result"
    }
   ],
   "source": [
    "constant_features = ddos_data.columns[ddos_data.nunique() == 1]\n",
    "constant_features"
   ]
  },
  {
   "cell_type": "code",
   "execution_count": 16,
   "id": "296f0524",
   "metadata": {
    "execution": {
     "iopub.execute_input": "2024-04-14T15:15:38.278508Z",
     "iopub.status.busy": "2024-04-14T15:15:38.277883Z",
     "iopub.status.idle": "2024-04-14T15:15:38.304214Z",
     "shell.execute_reply": "2024-04-14T15:15:38.303402Z"
    },
    "papermill": {
     "duration": 0.05941,
     "end_time": "2024-04-14T15:15:38.307282",
     "exception": false,
     "start_time": "2024-04-14T15:15:38.247872",
     "status": "completed"
    },
    "tags": []
   },
   "outputs": [
    {
     "name": "stdout",
     "output_type": "stream",
     "text": [
      "tcp.dstport:tcp.dstport\n",
      "8000    100000\n",
      "Name: count, dtype: int64\n",
      "ip.proto:ip.proto\n",
      "6    100000\n",
      "Name: count, dtype: int64\n",
      "tcp.flags.syn:tcp.flags.syn\n",
      "0    100000\n",
      "Name: count, dtype: int64\n",
      "tcp.flags.reset:tcp.flags.reset\n",
      "0    100000\n",
      "Name: count, dtype: int64\n",
      "tcp.flags.ack:tcp.flags.ack\n",
      "1    100000\n",
      "Name: count, dtype: int64\n",
      "ip.flags.mf:ip.flags.mf\n",
      "0    100000\n",
      "Name: count, dtype: int64\n",
      "ip.flags.rb:ip.flags.rb\n",
      "0    100000\n",
      "Name: count, dtype: int64\n",
      "tcp.seq:tcp.seq\n",
      "1    100000\n",
      "Name: count, dtype: int64\n",
      "tcp.ack:tcp.ack\n",
      "1    100000\n",
      "Name: count, dtype: int64\n"
     ]
    }
   ],
   "source": [
    "print(f'tcp.dstport:{ddos_data[\"tcp.dstport\"].value_counts()}')\n",
    "print(f'ip.proto:{ddos_data[\"ip.proto\"].value_counts()}')\n",
    "print(f'tcp.flags.syn:{ddos_data[\"tcp.flags.syn\"].value_counts()}')\n",
    "print(f'tcp.flags.reset:{ddos_data[\"tcp.flags.reset\"].value_counts()}')\n",
    "print(f'tcp.flags.ack:{ddos_data[\"tcp.flags.ack\"].value_counts()}')\n",
    "print(f'ip.flags.mf:{ddos_data[\"ip.flags.mf\"].value_counts()}')\n",
    "print(f'ip.flags.rb:{ddos_data[\"ip.flags.rb\"].value_counts()}')\n",
    "print(f'tcp.seq:{ddos_data[\"tcp.seq\"].value_counts()}')\n",
    "print(f'tcp.ack:{ddos_data[\"tcp.ack\"].value_counts()}')"
   ]
  },
  {
   "cell_type": "markdown",
   "id": "5c70e4e9",
   "metadata": {
    "papermill": {
     "duration": 0.027515,
     "end_time": "2024-04-14T15:15:38.362461",
     "exception": false,
     "start_time": "2024-04-14T15:15:38.334946",
     "status": "completed"
    },
    "tags": []
   },
   "source": [
    "It's better to drop constant features:"
   ]
  },
  {
   "cell_type": "code",
   "execution_count": 17,
   "id": "d1df1db1",
   "metadata": {
    "execution": {
     "iopub.execute_input": "2024-04-14T15:15:38.419650Z",
     "iopub.status.busy": "2024-04-14T15:15:38.419240Z",
     "iopub.status.idle": "2024-04-14T15:15:38.433957Z",
     "shell.execute_reply": "2024-04-14T15:15:38.432960Z"
    },
    "papermill": {
     "duration": 0.046736,
     "end_time": "2024-04-14T15:15:38.436753",
     "exception": false,
     "start_time": "2024-04-14T15:15:38.390017",
     "status": "completed"
    },
    "tags": []
   },
   "outputs": [],
   "source": [
    "ddos_data.drop(columns=constant_features,inplace=True)"
   ]
  },
  {
   "cell_type": "code",
   "execution_count": 18,
   "id": "01c1decf",
   "metadata": {
    "execution": {
     "iopub.execute_input": "2024-04-14T15:15:38.494338Z",
     "iopub.status.busy": "2024-04-14T15:15:38.493922Z",
     "iopub.status.idle": "2024-04-14T15:15:38.500617Z",
     "shell.execute_reply": "2024-04-14T15:15:38.499575Z"
    },
    "papermill": {
     "duration": 0.038868,
     "end_time": "2024-04-14T15:15:38.503296",
     "exception": false,
     "start_time": "2024-04-14T15:15:38.464428",
     "status": "completed"
    },
    "tags": []
   },
   "outputs": [
    {
     "data": {
      "text/plain": [
       "Index(['ip.src', 'tcp.srcport', 'frame.len', 'tcp.flags.push', 'ip.flags.df',\n",
       "       'frame.time', 'Packets', 'Bytes', 'Tx Packets', 'Tx Bytes',\n",
       "       'Rx Packets', 'Rx Bytes', 'Label'],\n",
       "      dtype='object')"
      ]
     },
     "execution_count": 18,
     "metadata": {},
     "output_type": "execute_result"
    }
   ],
   "source": [
    "ddos_data.columns"
   ]
  },
  {
   "cell_type": "code",
   "execution_count": 19,
   "id": "86400269",
   "metadata": {
    "execution": {
     "iopub.execute_input": "2024-04-14T15:15:38.571042Z",
     "iopub.status.busy": "2024-04-14T15:15:38.570604Z",
     "iopub.status.idle": "2024-04-14T15:15:38.756216Z",
     "shell.execute_reply": "2024-04-14T15:15:38.754764Z"
    },
    "papermill": {
     "duration": 0.217868,
     "end_time": "2024-04-14T15:15:38.758716",
     "exception": false,
     "start_time": "2024-04-14T15:15:38.540848",
     "status": "completed"
    },
    "tags": []
   },
   "outputs": [
    {
     "data": {
      "text/plain": [
       "frame.time\n",
       "16-Jun 2020 21:59:28.843891000 Mountain Daylight Time    1\n",
       "16-Jun 2020 20:20:45.087286000 Mountain Daylight Time    1\n",
       "16-Jun 2020 20:24:11.758832000 Mountain Daylight Time    1\n",
       "16-Jun 2020 22:03:04.974772000 Mountain Daylight Time    1\n",
       "16-Jun 2020 20:18:28.124390000 Mountain Daylight Time    1\n",
       "                                                        ..\n",
       "16-Jun 2020 20:20:37.455086000 Mountain Daylight Time    1\n",
       "16-Jun 2020 22:04:55.397176000 Mountain Daylight Time    1\n",
       "16-Jun 2020 20:24:35.002104000 Mountain Daylight Time    1\n",
       "16-Jun 2020 22:01:09.223391000 Mountain Daylight Time    1\n",
       "16-Jun 2020 20:26:54.455468000 Mountain Daylight Time    1\n",
       "Name: count, Length: 100000, dtype: int64"
      ]
     },
     "execution_count": 19,
     "metadata": {},
     "output_type": "execute_result"
    }
   ],
   "source": [
    "ddos_data['frame.time'].value_counts()"
   ]
  },
  {
   "cell_type": "markdown",
   "id": "7fd77c39",
   "metadata": {
    "papermill": {
     "duration": 0.027881,
     "end_time": "2024-04-14T15:15:38.814923",
     "exception": false,
     "start_time": "2024-04-14T15:15:38.787042",
     "status": "completed"
    },
    "tags": []
   },
   "source": [
    "## Normalize `frame.time` column:"
   ]
  },
  {
   "cell_type": "code",
   "execution_count": 20,
   "id": "e6269168",
   "metadata": {
    "execution": {
     "iopub.execute_input": "2024-04-14T15:15:38.874095Z",
     "iopub.status.busy": "2024-04-14T15:15:38.873646Z",
     "iopub.status.idle": "2024-04-14T15:15:38.881626Z",
     "shell.execute_reply": "2024-04-14T15:15:38.879720Z"
    },
    "papermill": {
     "duration": 0.040756,
     "end_time": "2024-04-14T15:15:38.884400",
     "exception": false,
     "start_time": "2024-04-14T15:15:38.843644",
     "status": "completed"
    },
    "tags": []
   },
   "outputs": [
    {
     "data": {
      "text/plain": [
       "0         16-Jun 2020 21:59:28.843891000 Mountain Dayli...\n",
       "1         16-Jun 2020 22:08:20.919148000 Mountain Dayli...\n",
       "2         16-Jun 2020 20:26:54.471308000 Mountain Dayli...\n",
       "3         16-Jun 2020 20:24:49.885520000 Mountain Dayli...\n",
       "4         16-Jun 2020 22:01:09.235094000 Mountain Dayli...\n",
       "                               ...                        \n",
       "99995     16-Jun 2020 21:59:28.883088000 Mountain Dayli...\n",
       "99996     16-Jun 2020 21:59:18.882294000 Mountain Dayli...\n",
       "99997     16-Jun 2020 20:23:54.693378000 Mountain Dayli...\n",
       "99998     16-Jun 2020 22:06:46.939273000 Mountain Dayli...\n",
       "99999     16-Jun 2020 20:26:54.455468000 Mountain Dayli...\n",
       "Name: frame.time, Length: 100000, dtype: object"
      ]
     },
     "execution_count": 20,
     "metadata": {},
     "output_type": "execute_result"
    }
   ],
   "source": [
    "ddos_data['frame.time']"
   ]
  },
  {
   "cell_type": "code",
   "execution_count": 21,
   "id": "6f8b6ab6",
   "metadata": {
    "execution": {
     "iopub.execute_input": "2024-04-14T15:15:38.943235Z",
     "iopub.status.busy": "2024-04-14T15:15:38.942826Z",
     "iopub.status.idle": "2024-04-14T15:15:38.949706Z",
     "shell.execute_reply": "2024-04-14T15:15:38.948553Z"
    },
    "papermill": {
     "duration": 0.039191,
     "end_time": "2024-04-14T15:15:38.952217",
     "exception": false,
     "start_time": "2024-04-14T15:15:38.913026",
     "status": "completed"
    },
    "tags": []
   },
   "outputs": [],
   "source": [
    "def normalize_time_column():\n",
    "    ddos_data['frame.time'] = ddos_data['frame.time'].str.replace(' Mountain Daylight Time', '')\n",
    "    ddos_data['frame.time']=ddos_data['frame.time'].apply(lambda x: re.sub(r'\\..*', '',x ))\n",
    "    ddos_data['frame.time'] = pd.to_datetime(ddos_data['frame.time'], format=' %d-%b %Y %H:%M:%S')\n",
    "    ddos_data['frame.time'] = ddos_data['frame.time'].dt.tz_localize('UTC').dt.tz_convert('US/Mountain')"
   ]
  },
  {
   "cell_type": "code",
   "execution_count": 22,
   "id": "955e7134",
   "metadata": {
    "execution": {
     "iopub.execute_input": "2024-04-14T15:15:39.011299Z",
     "iopub.status.busy": "2024-04-14T15:15:39.010860Z",
     "iopub.status.idle": "2024-04-14T15:15:39.558603Z",
     "shell.execute_reply": "2024-04-14T15:15:39.557554Z"
    },
    "papermill": {
     "duration": 0.580921,
     "end_time": "2024-04-14T15:15:39.561462",
     "exception": false,
     "start_time": "2024-04-14T15:15:38.980541",
     "status": "completed"
    },
    "tags": []
   },
   "outputs": [],
   "source": [
    "normalize_time_column()"
   ]
  },
  {
   "cell_type": "code",
   "execution_count": 23,
   "id": "82fa517b",
   "metadata": {
    "execution": {
     "iopub.execute_input": "2024-04-14T15:15:39.620156Z",
     "iopub.status.busy": "2024-04-14T15:15:39.619753Z",
     "iopub.status.idle": "2024-04-14T15:15:39.674588Z",
     "shell.execute_reply": "2024-04-14T15:15:39.673712Z"
    },
    "papermill": {
     "duration": 0.086903,
     "end_time": "2024-04-14T15:15:39.676909",
     "exception": false,
     "start_time": "2024-04-14T15:15:39.590006",
     "status": "completed"
    },
    "tags": []
   },
   "outputs": [
    {
     "data": {
      "text/plain": [
       "frame.time\n",
       "2020-06-16 14:18:15-06:00    3577\n",
       "2020-06-16 14:19:44-06:00    3588\n",
       "2020-06-16 14:21:14-06:00    3589\n",
       "2020-06-16 14:22:39-06:00    1255\n",
       "2020-06-16 14:22:40-06:00    2342\n",
       "2020-06-16 14:24:02-06:00    3571\n",
       "2020-06-16 14:25:27-06:00    3539\n",
       "2020-06-16 14:26:54-06:00    3534\n",
       "2020-06-16 15:57:57-06:00    3226\n",
       "2020-06-16 15:57:58-06:00     343\n",
       "2020-06-16 15:59:28-06:00    3579\n",
       "2020-06-16 16:01:09-06:00    3580\n",
       "2020-06-16 16:03:04-06:00    2355\n",
       "2020-06-16 16:03:05-06:00    1171\n",
       "2020-06-16 16:05:19-06:00    3538\n",
       "2020-06-16 16:07:04-06:00    3633\n",
       "2020-06-16 16:08:59-06:00    3598\n",
       "dtype: int64"
      ]
     },
     "execution_count": 23,
     "metadata": {},
     "output_type": "execute_result"
    }
   ],
   "source": [
    "connection_by_time=ddos_data[ddos_data['Label']!='Benign'].groupby(['frame.time']).size()\n",
    "connection_by_time"
   ]
  },
  {
   "cell_type": "code",
   "execution_count": 24,
   "id": "b8880da7",
   "metadata": {
    "execution": {
     "iopub.execute_input": "2024-04-14T15:15:39.736414Z",
     "iopub.status.busy": "2024-04-14T15:15:39.735971Z",
     "iopub.status.idle": "2024-04-14T15:15:39.745332Z",
     "shell.execute_reply": "2024-04-14T15:15:39.744084Z"
    },
    "papermill": {
     "duration": 0.041961,
     "end_time": "2024-04-14T15:15:39.747640",
     "exception": false,
     "start_time": "2024-04-14T15:15:39.705679",
     "status": "completed"
    },
    "tags": []
   },
   "outputs": [
    {
     "data": {
      "text/plain": [
       "ip.src                                 object\n",
       "tcp.srcport                             int64\n",
       "frame.len                               int64\n",
       "tcp.flags.push                          int64\n",
       "ip.flags.df                             int64\n",
       "frame.time        datetime64[ns, US/Mountain]\n",
       "Packets                                 int64\n",
       "Bytes                                   int64\n",
       "Tx Packets                              int64\n",
       "Tx Bytes                                int64\n",
       "Rx Packets                              int64\n",
       "Rx Bytes                                int64\n",
       "Label                                  object\n",
       "dtype: object"
      ]
     },
     "execution_count": 24,
     "metadata": {},
     "output_type": "execute_result"
    }
   ],
   "source": [
    "ddos_data.dtypes"
   ]
  },
  {
   "cell_type": "code",
   "execution_count": 25,
   "id": "46367592",
   "metadata": {
    "execution": {
     "iopub.execute_input": "2024-04-14T15:15:39.806734Z",
     "iopub.status.busy": "2024-04-14T15:15:39.805991Z",
     "iopub.status.idle": "2024-04-14T15:15:39.853236Z",
     "shell.execute_reply": "2024-04-14T15:15:39.852077Z"
    },
    "papermill": {
     "duration": 0.079767,
     "end_time": "2024-04-14T15:15:39.855863",
     "exception": false,
     "start_time": "2024-04-14T15:15:39.776096",
     "status": "completed"
    },
    "tags": []
   },
   "outputs": [
    {
     "data": {
      "text/plain": [
       "frame.time\n",
       "2020-06-16 14:18:22-06:00    38\n",
       "2020-06-16 14:18:23-06:00    51\n",
       "2020-06-16 14:18:24-06:00    49\n",
       "2020-06-16 14:18:25-06:00    45\n",
       "2020-06-16 14:18:26-06:00    42\n",
       "                             ..\n",
       "2020-06-16 16:10:42-06:00    29\n",
       "2020-06-16 16:10:43-06:00    36\n",
       "2020-06-16 16:10:44-06:00    42\n",
       "2020-06-16 16:10:45-06:00    14\n",
       "2020-06-16 16:10:46-06:00    40\n",
       "Length: 1185, dtype: int64"
      ]
     },
     "execution_count": 25,
     "metadata": {},
     "output_type": "execute_result"
    }
   ],
   "source": [
    "connection_by_time_b=ddos_data[ddos_data['Label']=='Benign'].groupby(['frame.time']).size()\n",
    "connection_by_time_b"
   ]
  },
  {
   "cell_type": "code",
   "execution_count": 26,
   "id": "20f52f53",
   "metadata": {
    "execution": {
     "iopub.execute_input": "2024-04-14T15:15:39.916594Z",
     "iopub.status.busy": "2024-04-14T15:15:39.915807Z",
     "iopub.status.idle": "2024-04-14T15:15:40.488390Z",
     "shell.execute_reply": "2024-04-14T15:15:40.487220Z"
    },
    "papermill": {
     "duration": 0.606255,
     "end_time": "2024-04-14T15:15:40.491234",
     "exception": false,
     "start_time": "2024-04-14T15:15:39.884979",
     "status": "completed"
    },
    "tags": []
   },
   "outputs": [
    {
     "data": {
      "image/png": "[encoded data removed]",
      "text/plain": [
       "<Figure size 1200x600 with 1 Axes>"
      ]
     },
     "metadata": {},
     "output_type": "display_data"
    }
   ],
   "source": [
    "plt.figure(figsize=(12, 6))\n",
    "plt.plot(connection_by_time.index, connection_by_time.values, marker='o', linestyle='-',label='Non-Benign')\n",
    "plt.plot(connection_by_time_b.index, connection_by_time_b.values, marker='o', linestyle='-', label='Benign')\n",
    "plt.title('Benign & non-Benign DDoS Connections Over Time')\n",
    "plt.xlabel('Time')\n",
    "plt.ylabel('Count')\n",
    "plt.xticks(rotation=90)\n",
    "plt.grid(True)k\n",
    "plt.tight_layout()\n",
    "plt.legend()\n",
    "plt.show()\n"
   ]
  },
  {
   "cell_type": "code",
   "execution_count": 27,
   "id": "adee1e10",
   "metadata": {
    "execution": {
     "iopub.execute_input": "2024-04-14T15:15:40.557425Z",
     "iopub.status.busy": "2024-04-14T15:15:40.556603Z",
     "iopub.status.idle": "2024-04-14T15:15:40.612077Z",
     "shell.execute_reply": "2024-04-14T15:15:40.610627Z"
    },
    "papermill": {
     "duration": 0.093048,
     "end_time": "2024-04-14T15:15:40.614462",
     "exception": false,
     "start_time": "2024-04-14T15:15:40.521414",
     "status": "completed"
    },
    "tags": []
   },
   "outputs": [
    {
     "data": {
      "text/plain": [
       "ip.src        frame.time               \n",
       "192.168.1.1   2020-06-16 14:18:15-06:00    3577\n",
       "              2020-06-16 15:57:57-06:00    3226\n",
       "              2020-06-16 15:57:58-06:00     343\n",
       "192.168.11.1  2020-06-16 14:25:27-06:00    3539\n",
       "              2020-06-16 16:07:04-06:00    3633\n",
       "192.168.14.1  2020-06-16 14:24:02-06:00    3571\n",
       "              2020-06-16 16:05:19-06:00    3538\n",
       "192.168.17.1  2020-06-16 14:22:39-06:00    1255\n",
       "              2020-06-16 14:22:40-06:00    2342\n",
       "              2020-06-16 16:03:04-06:00    2355\n",
       "              2020-06-16 16:03:05-06:00    1171\n",
       "192.168.20.1  2020-06-16 14:26:54-06:00    3534\n",
       "              2020-06-16 16:08:59-06:00    3598\n",
       "192.168.4.1   2020-06-16 14:19:44-06:00    3588\n",
       "              2020-06-16 15:59:28-06:00    3579\n",
       "192.168.7.1   2020-06-16 14:21:14-06:00    3589\n",
       "              2020-06-16 16:01:09-06:00    3580\n",
       "dtype: int64"
      ]
     },
     "execution_count": 27,
     "metadata": {},
     "output_type": "execute_result"
    }
   ],
   "source": [
    "connection_by_time_different_ip_src=ddos_data[ddos_data['Label']!='Benign'].groupby(['ip.src','frame.time']).size()\n",
    "connection_by_time_different_ip_src"
   ]
  },
  {
   "cell_type": "code",
   "execution_count": 28,
   "id": "ff4c619d",
   "metadata": {
    "execution": {
     "iopub.execute_input": "2024-04-14T15:15:40.677686Z",
     "iopub.status.busy": "2024-04-14T15:15:40.676957Z",
     "iopub.status.idle": "2024-04-14T15:15:41.554147Z",
     "shell.execute_reply": "2024-04-14T15:15:41.552774Z"
    },
    "papermill": {
     "duration": 0.912583,
     "end_time": "2024-04-14T15:15:41.557086",
     "exception": false,
     "start_time": "2024-04-14T15:15:40.644503",
     "status": "completed"
    },
    "tags": []
   },
   "outputs": [
    {
     "data": {
      "text/plain": [
       "<Figure size 1000x600 with 0 Axes>"
      ]
     },
     "metadata": {},
     "output_type": "display_data"
    },
    {
     "data": {
      "image/png": "[encoded data removed]",
      "text/plain": [
       "<Figure size 640x480 with 1 Axes>"
      ]
     },
     "metadata": {},
     "output_type": "display_data"
    }
   ],
   "source": [
    "plt.figure(figsize=(10, 6))\n",
    "connection_by_time_different_ip_src.unstack(level=0).plot(kind='bar', stacked=True)\n",
    "plt.title('Count of Non-Benign DDoS Attacks by IP Source and Time')\n",
    "plt.xlabel('Frame Time')\n",
    "plt.ylabel('Count')\n",
    "plt.legend(title='IP Source')\n",
    "plt.xticks(rotation=90)\n",
    "plt.tight_layout()\n",
    "plt.show()"
   ]
  },
  {
   "cell_type": "code",
   "execution_count": 29,
   "id": "26b71f11",
   "metadata": {
    "execution": {
     "iopub.execute_input": "2024-04-14T15:15:41.621103Z",
     "iopub.status.busy": "2024-04-14T15:15:41.620676Z",
     "iopub.status.idle": "2024-04-14T15:15:41.677514Z",
     "shell.execute_reply": "2024-04-14T15:15:41.676269Z"
    },
    "papermill": {
     "duration": 0.09218,
     "end_time": "2024-04-14T15:15:41.680293",
     "exception": false,
     "start_time": "2024-04-14T15:15:41.588113",
     "status": "completed"
    },
    "tags": []
   },
   "outputs": [
    {
     "data": {
      "text/plain": [
       "frame.time                 Packets\n",
       "2020-06-16 14:18:22-06:00  10         38\n",
       "2020-06-16 14:18:23-06:00  10         51\n",
       "2020-06-16 14:18:24-06:00  10         49\n",
       "2020-06-16 14:18:25-06:00  10         45\n",
       "2020-06-16 14:18:26-06:00  10         42\n",
       "                                      ..\n",
       "2020-06-16 16:10:42-06:00  10         29\n",
       "2020-06-16 16:10:43-06:00  10         36\n",
       "2020-06-16 16:10:44-06:00  10         42\n",
       "2020-06-16 16:10:45-06:00  10         14\n",
       "2020-06-16 16:10:46-06:00  10         40\n",
       "Length: 1185, dtype: int64"
      ]
     },
     "execution_count": 29,
     "metadata": {},
     "output_type": "execute_result"
    }
   ],
   "source": [
    "ddos_data[ddos_data['Label']=='Benign'].groupby(['frame.time','Packets']).size()"
   ]
  },
  {
   "cell_type": "code",
   "execution_count": 30,
   "id": "31b9b597",
   "metadata": {
    "execution": {
     "iopub.execute_input": "2024-04-14T15:15:41.745375Z",
     "iopub.status.busy": "2024-04-14T15:15:41.744885Z",
     "iopub.status.idle": "2024-04-14T15:15:42.408095Z",
     "shell.execute_reply": "2024-04-14T15:15:42.406946Z"
    },
    "papermill": {
     "duration": 0.699033,
     "end_time": "2024-04-14T15:15:42.411265",
     "exception": false,
     "start_time": "2024-04-14T15:15:41.712232",
     "status": "completed"
    },
    "tags": []
   },
   "outputs": [
    {
     "data": {
      "image/png": "[encoded data removed]",
      "text/plain": [
       "<Figure size 1200x600 with 1 Axes>"
      ]
     },
     "metadata": {},
     "output_type": "display_data"
    }
   ],
   "source": [
    "non_benign_data = ddos_data[ddos_data['Label'] != 'Benign']\n",
    "non_benign_bytes_by_time = non_benign_data.groupby(['frame.time', 'Bytes']).size().reset_index(name='count')\n",
    "non_benign_bytes_by_time = non_benign_bytes_by_time.groupby('frame.time')['Bytes'].mean()\n",
    "\n",
    "benign_data = ddos_data[ddos_data['Label'] == 'Benign']\n",
    "\n",
    "benign_bytes_by_time =benign_data.groupby(['frame.time', 'Bytes']).size().reset_index(name='count')\n",
    "benign_bytes_by_time = benign_bytes_by_time.groupby('frame.time')['Bytes'].mean()\n",
    "\n",
    "plt.figure(figsize=(12, 6))\n",
    "plt.plot(non_benign_bytes_by_time.index, non_benign_bytes_by_time.values, label='Non-Benign', linestyle='-', marker='o')\n",
    "plt.plot(benign_bytes_by_time.index, benign_bytes_by_time.values, label='Benign', linestyle='-', marker='o')\n",
    "plt.title('Average Bytes Received Over Time for non benign connections')\n",
    "plt.xlabel('Time')\n",
    "plt.ylabel('Average Bytes')\n",
    "plt.xticks(rotation=90)\n",
    "plt.legend()\n",
    "plt.grid(True)\n",
    "plt.tight_layout()\n",
    "plt.show()"
   ]
  },
  {
   "cell_type": "markdown",
   "id": "64d95288",
   "metadata": {
    "papermill": {
     "duration": 0.031699,
     "end_time": "2024-04-14T15:15:42.475015",
     "exception": false,
     "start_time": "2024-04-14T15:15:42.443316",
     "status": "completed"
    },
    "tags": []
   },
   "source": [
    "The average of bytes sent by timestamp varies for non-benign connections. But it's quite constant for benign connections."
   ]
  },
  {
   "cell_type": "code",
   "execution_count": 31,
   "id": "e460abfa",
   "metadata": {
    "execution": {
     "iopub.execute_input": "2024-04-14T15:15:42.541463Z",
     "iopub.status.busy": "2024-04-14T15:15:42.540681Z",
     "iopub.status.idle": "2024-04-14T15:15:43.080957Z",
     "shell.execute_reply": "2024-04-14T15:15:43.079774Z"
    },
    "papermill": {
     "duration": 0.576574,
     "end_time": "2024-04-14T15:15:43.083615",
     "exception": false,
     "start_time": "2024-04-14T15:15:42.507041",
     "status": "completed"
    },
    "tags": []
   },
   "outputs": [
    {
     "data": {
      "text/plain": [
       "<matplotlib.legend.Legend at 0x168627f0ef0>"
      ]
     },
     "execution_count": 31,
     "metadata": {},
     "output_type": "execute_result"
    },
    {
     "data": {
      "image/png": "[encoded data removed]",
      "text/plain": [
       "<Figure size 640x480 with 1 Axes>"
      ]
     },
     "metadata": {},
     "output_type": "display_data"
    }
   ],
   "source": [
    "benign=ddos_data[ddos_data['Label']==\"Bengin\"].Packets\n",
    "ddos_ack=ddos_data[ddos_data['Label']==\"DDoS-ACK\"].Packets\n",
    "ddos_psh_ack=ddos_data[ddos_data['Label']==\"DDoS-PSH-ACK\"].Packets\n",
    "plt.xlabel(\"Numbre of Packets\")\n",
    "plt.ylabel(\"\")\n",
    "plt.title(\"Numbre of packets for label ddos Visualiztion\")\n",
    "plt.hist([benign, ddos_ack,ddos_psh_ack], rwidth=0.95, color=['green','blue','red'],label=['Bengin','ddos_ack','ddos_psh_ack'])\n",
    "plt.legend()"
   ]
  },
  {
   "cell_type": "code",
   "execution_count": 32,
   "id": "633e8ef3",
   "metadata": {
    "execution": {
     "iopub.execute_input": "2024-04-14T15:15:43.151953Z",
     "iopub.status.busy": "2024-04-14T15:15:43.151555Z",
     "iopub.status.idle": "2024-04-14T15:15:43.838381Z",
     "shell.execute_reply": "2024-04-14T15:15:43.837163Z"
    },
    "papermill": {
     "duration": 0.725086,
     "end_time": "2024-04-14T15:15:43.841826",
     "exception": false,
     "start_time": "2024-04-14T15:15:43.116740",
     "status": "completed"
    },
    "tags": []
   },
   "outputs": [
    {
     "data": {
      "image/png": "[encoded data removed]",
      "text/plain": [
       "<Figure size 1200x600 with 1 Axes>"
      ]
     },
     "metadata": {},
     "output_type": "display_data"
    }
   ],
   "source": [
    "# Filter non-benign and benign data\n",
    "non_benign_data = ddos_data[ddos_data['Label'] != 'Benign']\n",
    "benign_data = ddos_data[ddos_data['Label'] == 'Benign']\n",
    "\n",
    "# Group by 'frame.time' and 'Packets' and calculate the mean for non-benign traffic\n",
    "non_benign_packets_by_time = non_benign_data.groupby(['frame.time', 'Packets']).size().reset_index(name='count')\n",
    "non_benign_packets_by_time = non_benign_packets_by_time.groupby('frame.time')['Packets'].mean()\n",
    "\n",
    "# Group by 'frame.time' and 'Packets' and calculate the mean for benign traffic\n",
    "benign_packets_by_time = benign_data.groupby(['frame.time', 'Packets']).size().reset_index(name='count')\n",
    "benign_packets_by_time = benign_packets_by_time.groupby('frame.time')['Packets'].mean()\n",
    "\n",
    "# Plotting the line chart for non-benign and benign traffic\n",
    "plt.figure(figsize=(12, 6))\n",
    "plt.plot(non_benign_packets_by_time.index, non_benign_packets_by_time.values, label='Non-Benign', linestyle='-', marker='o')\n",
    "plt.plot(benign_packets_by_time.index, benign_packets_by_time.values, label='Benign', linestyle='-', marker='o')\n",
    "plt.title('Average Packets Received Over Time')\n",
    "plt.xlabel('Time')\n",
    "plt.ylabel('Average Packets')\n",
    "plt.xticks(rotation=90)\n",
    "plt.legend()\n",
    "plt.grid(True)\n",
    "plt.tight_layout()\n",
    "plt.show()"
   ]
  },
  {
   "cell_type": "markdown",
   "id": "8dcdaf49",
   "metadata": {
    "papermill": {
     "duration": 0.035392,
     "end_time": "2024-04-14T15:15:43.911712",
     "exception": false,
     "start_time": "2024-04-14T15:15:43.876320",
     "status": "completed"
    },
    "tags": []
   },
   "source": [
    "While the number of packets per frame for non-benign traffic varies, the number of packets per frame for benign traffic is constant = 10."
   ]
  },
  {
   "cell_type": "code",
   "execution_count": 33,
   "id": "1307a228",
   "metadata": {
    "execution": {
     "iopub.execute_input": "2024-04-14T15:15:43.984255Z",
     "iopub.status.busy": "2024-04-14T15:15:43.983551Z",
     "iopub.status.idle": "2024-04-14T15:15:44.658686Z",
     "shell.execute_reply": "2024-04-14T15:15:44.657432Z"
    },
    "papermill": {
     "duration": 0.714653,
     "end_time": "2024-04-14T15:15:44.661490",
     "exception": false,
     "start_time": "2024-04-14T15:15:43.946837",
     "status": "completed"
    },
    "tags": []
   },
   "outputs": [
    {
     "data": {
      "image/png": "[encoded data removed]",
      "text/plain": [
       "<Figure size 1200x600 with 1 Axes>"
      ]
     },
     "metadata": {},
     "output_type": "display_data"
    }
   ],
   "source": [
    "# Filter non-benign and benign data\n",
    "non_benign_data = ddos_data[ddos_data['Label'] != 'Benign']\n",
    "benign_data = ddos_data[ddos_data['Label'] == 'Benign']\n",
    "\n",
    "# Plot histograms for non-benign and benign connections\n",
    "plt.figure(figsize=(12, 6))\n",
    "plt.hist(non_benign_data['Packets'], bins=30, alpha=0.7, color='red', label='Non-Benign')\n",
    "plt.hist(benign_data['Packets'], bins=30, alpha=0.7, color='blue', label='Benign')\n",
    "plt.title('Distribution of Packets Over Time')\n",
    "plt.xlabel('Number of Packets')\n",
    "plt.ylabel('Frequency')\n",
    "plt.legend()\n",
    "#plt.grid(True)\n",
    "plt.tight_layout()\n",
    "plt.show()"
   ]
  },
  {
   "cell_type": "code",
   "execution_count": 34,
   "id": "bb785208",
   "metadata": {
    "execution": {
     "iopub.execute_input": "2024-04-14T15:15:44.733164Z",
     "iopub.status.busy": "2024-04-14T15:15:44.732737Z",
     "iopub.status.idle": "2024-04-14T15:15:44.770292Z",
     "shell.execute_reply": "2024-04-14T15:15:44.769078Z"
    },
    "papermill": {
     "duration": 0.076171,
     "end_time": "2024-04-14T15:15:44.772692",
     "exception": false,
     "start_time": "2024-04-14T15:15:44.696521",
     "status": "completed"
    },
    "tags": []
   },
   "outputs": [
    {
     "data": {
      "text/html": [
       "<div>\n",
       "<style scoped>\n",
       "    .dataframe tbody tr th:only-of-type {\n",
       "        vertical-align: middle;\n",
       "    }\n",
       "\n",
       "    .dataframe tbody tr th {\n",
       "        vertical-align: top;\n",
       "    }\n",
       "\n",
       "    .dataframe thead th {\n",
       "        text-align: right;\n",
       "    }\n",
       "</style>\n",
       "<table border=\"1\" class=\"dataframe\">\n",
       "  <thead>\n",
       "    <tr style=\"text-align: right;\">\n",
       "      <th>Label</th>\n",
       "      <th>Benign</th>\n",
       "      <th>DDoS-ACK</th>\n",
       "      <th>DDoS-PSH-ACK</th>\n",
       "    </tr>\n",
       "    <tr>\n",
       "      <th>frame.time</th>\n",
       "      <th></th>\n",
       "      <th></th>\n",
       "      <th></th>\n",
       "    </tr>\n",
       "  </thead>\n",
       "  <tbody>\n",
       "    <tr>\n",
       "      <th>2020-06-16 14:18:15-06:00</th>\n",
       "      <td>0</td>\n",
       "      <td>0</td>\n",
       "      <td>3577</td>\n",
       "    </tr>\n",
       "    <tr>\n",
       "      <th>2020-06-16 14:18:22-06:00</th>\n",
       "      <td>38</td>\n",
       "      <td>0</td>\n",
       "      <td>0</td>\n",
       "    </tr>\n",
       "    <tr>\n",
       "      <th>2020-06-16 14:18:23-06:00</th>\n",
       "      <td>51</td>\n",
       "      <td>0</td>\n",
       "      <td>0</td>\n",
       "    </tr>\n",
       "    <tr>\n",
       "      <th>2020-06-16 14:18:24-06:00</th>\n",
       "      <td>49</td>\n",
       "      <td>0</td>\n",
       "      <td>0</td>\n",
       "    </tr>\n",
       "    <tr>\n",
       "      <th>2020-06-16 14:18:25-06:00</th>\n",
       "      <td>45</td>\n",
       "      <td>0</td>\n",
       "      <td>0</td>\n",
       "    </tr>\n",
       "    <tr>\n",
       "      <th>...</th>\n",
       "      <td>...</td>\n",
       "      <td>...</td>\n",
       "      <td>...</td>\n",
       "    </tr>\n",
       "    <tr>\n",
       "      <th>2020-06-16 16:10:42-06:00</th>\n",
       "      <td>29</td>\n",
       "      <td>0</td>\n",
       "      <td>0</td>\n",
       "    </tr>\n",
       "    <tr>\n",
       "      <th>2020-06-16 16:10:43-06:00</th>\n",
       "      <td>36</td>\n",
       "      <td>0</td>\n",
       "      <td>0</td>\n",
       "    </tr>\n",
       "    <tr>\n",
       "      <th>2020-06-16 16:10:44-06:00</th>\n",
       "      <td>42</td>\n",
       "      <td>0</td>\n",
       "      <td>0</td>\n",
       "    </tr>\n",
       "    <tr>\n",
       "      <th>2020-06-16 16:10:45-06:00</th>\n",
       "      <td>14</td>\n",
       "      <td>0</td>\n",
       "      <td>0</td>\n",
       "    </tr>\n",
       "    <tr>\n",
       "      <th>2020-06-16 16:10:46-06:00</th>\n",
       "      <td>40</td>\n",
       "      <td>0</td>\n",
       "      <td>0</td>\n",
       "    </tr>\n",
       "  </tbody>\n",
       "</table>\n",
       "<p>1202 rows × 3 columns</p>\n",
       "</div>"
      ],
      "text/plain": [
       "Label                      Benign  DDoS-ACK  DDoS-PSH-ACK\n",
       "frame.time                                               \n",
       "2020-06-16 14:18:15-06:00       0         0          3577\n",
       "2020-06-16 14:18:22-06:00      38         0             0\n",
       "2020-06-16 14:18:23-06:00      51         0             0\n",
       "2020-06-16 14:18:24-06:00      49         0             0\n",
       "2020-06-16 14:18:25-06:00      45         0             0\n",
       "...                           ...       ...           ...\n",
       "2020-06-16 16:10:42-06:00      29         0             0\n",
       "2020-06-16 16:10:43-06:00      36         0             0\n",
       "2020-06-16 16:10:44-06:00      42         0             0\n",
       "2020-06-16 16:10:45-06:00      14         0             0\n",
       "2020-06-16 16:10:46-06:00      40         0             0\n",
       "\n",
       "[1202 rows x 3 columns]"
      ]
     },
     "execution_count": 34,
     "metadata": {},
     "output_type": "execute_result"
    }
   ],
   "source": [
    "label_counts = ddos_data.groupby(['frame.time','Label']).size().unstack(fill_value=0)\n",
    "label_counts"
   ]
  },
  {
   "cell_type": "code",
   "execution_count": 35,
   "id": "22b777ae",
   "metadata": {
    "execution": {
     "iopub.execute_input": "2024-04-14T15:15:44.843211Z",
     "iopub.status.busy": "2024-04-14T15:15:44.842795Z",
     "iopub.status.idle": "2024-04-14T15:15:45.464225Z",
     "shell.execute_reply": "2024-04-14T15:15:45.463336Z"
    },
    "papermill": {
     "duration": 0.660026,
     "end_time": "2024-04-14T15:15:45.466968",
     "exception": false,
     "start_time": "2024-04-14T15:15:44.806942",
     "status": "completed"
    },
    "tags": []
   },
   "outputs": [
    {
     "data": {
      "image/png": "[encoded data removed]",
      "text/plain": [
       "<Figure size 1000x600 with 1 Axes>"
      ]
     },
     "metadata": {},
     "output_type": "display_data"
    }
   ],
   "source": [
    "label_counts['Benign'].plot(kind='line', figsize=(10, 6))\n",
    "label_counts['DDoS-PSH-ACK'].plot(kind='line', figsize=(10, 6))\n",
    "label_counts['DDoS-ACK'].plot(kind='line', figsize=(10, 6))\n",
    "\n",
    "plt.title('Frequency of Labels Over Time')\n",
    "plt.xlabel('Time')\n",
    "plt.xticks(rotation=90)\n",
    "plt.ylabel('Count')\n",
    "plt.legend()\n",
    "plt.show()"
   ]
  },
  {
   "cell_type": "markdown",
   "id": "22cdb1a7",
   "metadata": {
    "papermill": {
     "duration": 0.035154,
     "end_time": "2024-04-14T15:15:45.537892",
     "exception": false,
     "start_time": "2024-04-14T15:15:45.502738",
     "status": "completed"
    },
    "tags": []
   },
   "source": [
    "# Correlation Analysis:"
   ]
  },
  {
   "cell_type": "code",
   "execution_count": 36,
   "id": "c790e79e",
   "metadata": {
    "execution": {
     "iopub.execute_input": "2024-04-14T15:15:45.611555Z",
     "iopub.status.busy": "2024-04-14T15:15:45.610740Z",
     "iopub.status.idle": "2024-04-14T15:15:48.437527Z",
     "shell.execute_reply": "2024-04-14T15:15:48.436230Z"
    },
    "papermill": {
     "duration": 2.866109,
     "end_time": "2024-04-14T15:15:48.440098",
     "exception": false,
     "start_time": "2024-04-14T15:15:45.573989",
     "status": "completed"
    },
    "tags": []
   },
   "outputs": [],
   "source": [
    "# ddos_data.hist(bins =10, figsize=(20, 15))\n",
    "# plt.show()"
   ]
  },
  {
   "cell_type": "code",
   "execution_count": 37,
   "id": "24ffe2ca",
   "metadata": {
    "execution": {
     "iopub.execute_input": "2024-04-14T15:15:48.517418Z",
     "iopub.status.busy": "2024-04-14T15:15:48.516946Z",
     "iopub.status.idle": "2024-04-14T15:17:42.423540Z",
     "shell.execute_reply": "2024-04-14T15:17:42.422301Z"
    },
    "papermill": {
     "duration": 113.989396,
     "end_time": "2024-04-14T15:17:42.467154",
     "exception": false,
     "start_time": "2024-04-14T15:15:48.477758",
     "status": "completed"
    },
    "tags": []
   },
   "outputs": [],
   "source": [
    "# sns.pairplot(ddos_data,hue='Label',vars=['frame.time','Packets','Tx Packets'])"
   ]
  },
  {
   "cell_type": "code",
   "execution_count": 38,
   "id": "df635eee",
   "metadata": {
    "execution": {
     "iopub.execute_input": "2024-04-14T15:17:42.552195Z",
     "iopub.status.busy": "2024-04-14T15:17:42.551007Z",
     "iopub.status.idle": "2024-04-14T15:17:42.559002Z",
     "shell.execute_reply": "2024-04-14T15:17:42.557917Z"
    },
    "papermill": {
     "duration": 0.052697,
     "end_time": "2024-04-14T15:17:42.561093",
     "exception": false,
     "start_time": "2024-04-14T15:17:42.508396",
     "status": "completed"
    },
    "tags": []
   },
   "outputs": [
    {
     "data": {
      "text/plain": [
       "['tcp.srcport',\n",
       " 'frame.len',\n",
       " 'tcp.flags.push',\n",
       " 'ip.flags.df',\n",
       " 'frame.time',\n",
       " 'Packets',\n",
       " 'Bytes',\n",
       " 'Tx Packets',\n",
       " 'Tx Bytes',\n",
       " 'Rx Packets',\n",
       " 'Rx Bytes']"
      ]
     },
     "execution_count": 38,
     "metadata": {},
     "output_type": "execute_result"
    }
   ],
   "source": [
    "numerical_features = [feature for feature in ddos_data.columns if ddos_data[feature].dtypes != 'O']\n",
    "numerical_features"
   ]
  },
  {
   "cell_type": "code",
   "execution_count": 39,
   "id": "ef9573e1",
   "metadata": {
    "execution": {
     "iopub.execute_input": "2024-04-14T15:17:42.644317Z",
     "iopub.status.busy": "2024-04-14T15:17:42.643904Z",
     "iopub.status.idle": "2024-04-14T15:17:42.651433Z",
     "shell.execute_reply": "2024-04-14T15:17:42.650282Z"
    },
    "papermill": {
     "duration": 0.052011,
     "end_time": "2024-04-14T15:17:42.653764",
     "exception": false,
     "start_time": "2024-04-14T15:17:42.601753",
     "status": "completed"
    },
    "tags": []
   },
   "outputs": [
    {
     "data": {
      "text/plain": [
       "['ip.src', 'Label']"
      ]
     },
     "execution_count": 39,
     "metadata": {},
     "output_type": "execute_result"
    }
   ],
   "source": [
    "categorical_features = [feature for feature in ddos_data.columns if ddos_data[feature].dtypes == 'O']\n",
    "categorical_features"
   ]
  },
  {
   "cell_type": "code",
   "execution_count": 40,
   "id": "fc41b9a9",
   "metadata": {
    "execution": {
     "iopub.execute_input": "2024-04-14T15:17:42.737328Z",
     "iopub.status.busy": "2024-04-14T15:17:42.736565Z",
     "iopub.status.idle": "2024-04-14T15:17:42.842654Z",
     "shell.execute_reply": "2024-04-14T15:17:42.841431Z"
    },
    "papermill": {
     "duration": 0.151059,
     "end_time": "2024-04-14T15:17:42.844986",
     "exception": false,
     "start_time": "2024-04-14T15:17:42.693927",
     "status": "completed"
    },
    "tags": []
   },
   "outputs": [
    {
     "data": {
      "text/html": [
       "<div>\n",
       "<style scoped>\n",
       "    .dataframe tbody tr th:only-of-type {\n",
       "        vertical-align: middle;\n",
       "    }\n",
       "\n",
       "    .dataframe tbody tr th {\n",
       "        vertical-align: top;\n",
       "    }\n",
       "\n",
       "    .dataframe thead th {\n",
       "        text-align: right;\n",
       "    }\n",
       "</style>\n",
       "<table border=\"1\" class=\"dataframe\">\n",
       "  <thead>\n",
       "    <tr style=\"text-align: right;\">\n",
       "      <th></th>\n",
       "      <th>tcp.srcport</th>\n",
       "      <th>frame.len</th>\n",
       "      <th>tcp.flags.push</th>\n",
       "      <th>ip.flags.df</th>\n",
       "      <th>frame.time</th>\n",
       "      <th>Packets</th>\n",
       "      <th>Bytes</th>\n",
       "      <th>Tx Packets</th>\n",
       "      <th>Tx Bytes</th>\n",
       "      <th>Rx Packets</th>\n",
       "      <th>Rx Bytes</th>\n",
       "    </tr>\n",
       "  </thead>\n",
       "  <tbody>\n",
       "    <tr>\n",
       "      <th>tcp.srcport</th>\n",
       "      <td>1.000000</td>\n",
       "      <td>0.548969</td>\n",
       "      <td>-0.056942</td>\n",
       "      <td>0.947496</td>\n",
       "      <td>0.067698</td>\n",
       "      <td>0.404352</td>\n",
       "      <td>0.907305</td>\n",
       "      <td>0.662260</td>\n",
       "      <td>0.904253</td>\n",
       "      <td>-0.035943</td>\n",
       "      <td>0.907412</td>\n",
       "    </tr>\n",
       "    <tr>\n",
       "      <th>frame.len</th>\n",
       "      <td>0.548969</td>\n",
       "      <td>1.000000</td>\n",
       "      <td>0.547906</td>\n",
       "      <td>0.632117</td>\n",
       "      <td>-0.541868</td>\n",
       "      <td>0.272606</td>\n",
       "      <td>0.606176</td>\n",
       "      <td>0.444011</td>\n",
       "      <td>0.604171</td>\n",
       "      <td>-0.020763</td>\n",
       "      <td>0.606216</td>\n",
       "    </tr>\n",
       "    <tr>\n",
       "      <th>tcp.flags.push</th>\n",
       "      <td>-0.056942</td>\n",
       "      <td>0.547906</td>\n",
       "      <td>1.000000</td>\n",
       "      <td>0.000140</td>\n",
       "      <td>-0.997733</td>\n",
       "      <td>-0.014167</td>\n",
       "      <td>-0.004330</td>\n",
       "      <td>-0.012817</td>\n",
       "      <td>-0.005203</td>\n",
       "      <td>-0.013326</td>\n",
       "      <td>-0.003533</td>\n",
       "    </tr>\n",
       "    <tr>\n",
       "      <th>ip.flags.df</th>\n",
       "      <td>0.947496</td>\n",
       "      <td>0.632117</td>\n",
       "      <td>0.000140</td>\n",
       "      <td>1.000000</td>\n",
       "      <td>0.007954</td>\n",
       "      <td>0.431258</td>\n",
       "      <td>0.958989</td>\n",
       "      <td>0.702419</td>\n",
       "      <td>0.955791</td>\n",
       "      <td>-0.032846</td>\n",
       "      <td>0.959077</td>\n",
       "    </tr>\n",
       "    <tr>\n",
       "      <th>frame.time</th>\n",
       "      <td>0.067698</td>\n",
       "      <td>-0.541868</td>\n",
       "      <td>-0.997733</td>\n",
       "      <td>0.007954</td>\n",
       "      <td>1.000000</td>\n",
       "      <td>0.016657</td>\n",
       "      <td>0.011796</td>\n",
       "      <td>0.017744</td>\n",
       "      <td>0.012627</td>\n",
       "      <td>0.011910</td>\n",
       "      <td>0.011015</td>\n",
       "    </tr>\n",
       "    <tr>\n",
       "      <th>Packets</th>\n",
       "      <td>0.404352</td>\n",
       "      <td>0.272606</td>\n",
       "      <td>-0.014167</td>\n",
       "      <td>0.431258</td>\n",
       "      <td>0.016657</td>\n",
       "      <td>1.000000</td>\n",
       "      <td>0.664623</td>\n",
       "      <td>0.943771</td>\n",
       "      <td>0.676941</td>\n",
       "      <td>0.885714</td>\n",
       "      <td>0.651617</td>\n",
       "    </tr>\n",
       "    <tr>\n",
       "      <th>Bytes</th>\n",
       "      <td>0.907305</td>\n",
       "      <td>0.606176</td>\n",
       "      <td>-0.004330</td>\n",
       "      <td>0.958989</td>\n",
       "      <td>0.011796</td>\n",
       "      <td>0.664623</td>\n",
       "      <td>1.000000</td>\n",
       "      <td>0.871255</td>\n",
       "      <td>0.998298</td>\n",
       "      <td>0.246033</td>\n",
       "      <td>0.998624</td>\n",
       "    </tr>\n",
       "    <tr>\n",
       "      <th>Tx Packets</th>\n",
       "      <td>0.662260</td>\n",
       "      <td>0.444011</td>\n",
       "      <td>-0.012817</td>\n",
       "      <td>0.702419</td>\n",
       "      <td>0.017744</td>\n",
       "      <td>0.943771</td>\n",
       "      <td>0.871255</td>\n",
       "      <td>1.000000</td>\n",
       "      <td>0.880656</td>\n",
       "      <td>0.682436</td>\n",
       "      <td>0.860272</td>\n",
       "    </tr>\n",
       "    <tr>\n",
       "      <th>Tx Bytes</th>\n",
       "      <td>0.904253</td>\n",
       "      <td>0.604171</td>\n",
       "      <td>-0.005203</td>\n",
       "      <td>0.955791</td>\n",
       "      <td>0.012627</td>\n",
       "      <td>0.676941</td>\n",
       "      <td>0.998298</td>\n",
       "      <td>0.880656</td>\n",
       "      <td>1.000000</td>\n",
       "      <td>0.260067</td>\n",
       "      <td>0.993866</td>\n",
       "    </tr>\n",
       "    <tr>\n",
       "      <th>Rx Packets</th>\n",
       "      <td>-0.035943</td>\n",
       "      <td>-0.020763</td>\n",
       "      <td>-0.013326</td>\n",
       "      <td>-0.032846</td>\n",
       "      <td>0.011910</td>\n",
       "      <td>0.885714</td>\n",
       "      <td>0.246033</td>\n",
       "      <td>0.682436</td>\n",
       "      <td>0.260067</td>\n",
       "      <td>1.000000</td>\n",
       "      <td>0.232701</td>\n",
       "    </tr>\n",
       "    <tr>\n",
       "      <th>Rx Bytes</th>\n",
       "      <td>0.907412</td>\n",
       "      <td>0.606216</td>\n",
       "      <td>-0.003533</td>\n",
       "      <td>0.959077</td>\n",
       "      <td>0.011015</td>\n",
       "      <td>0.651617</td>\n",
       "      <td>0.998624</td>\n",
       "      <td>0.860272</td>\n",
       "      <td>0.993866</td>\n",
       "      <td>0.232701</td>\n",
       "      <td>1.000000</td>\n",
       "    </tr>\n",
       "  </tbody>\n",
       "</table>\n",
       "</div>"
      ],
      "text/plain": [
       "                tcp.srcport  frame.len  tcp.flags.push  ip.flags.df  \\\n",
       "tcp.srcport        1.000000   0.548969       -0.056942     0.947496   \n",
       "frame.len          0.548969   1.000000        0.547906     0.632117   \n",
       "tcp.flags.push    -0.056942   0.547906        1.000000     0.000140   \n",
       "ip.flags.df        0.947496   0.632117        0.000140     1.000000   \n",
       "frame.time         0.067698  -0.541868       -0.997733     0.007954   \n",
       "Packets            0.404352   0.272606       -0.014167     0.431258   \n",
       "Bytes              0.907305   0.606176       -0.004330     0.958989   \n",
       "Tx Packets         0.662260   0.444011       -0.012817     0.702419   \n",
       "Tx Bytes           0.904253   0.604171       -0.005203     0.955791   \n",
       "Rx Packets        -0.035943  -0.020763       -0.013326    -0.032846   \n",
       "Rx Bytes           0.907412   0.606216       -0.003533     0.959077   \n",
       "\n",
       "                frame.time   Packets     Bytes  Tx Packets  Tx Bytes  \\\n",
       "tcp.srcport       0.067698  0.404352  0.907305    0.662260  0.904253   \n",
       "frame.len        -0.541868  0.272606  0.606176    0.444011  0.604171   \n",
       "tcp.flags.push   -0.997733 -0.014167 -0.004330   -0.012817 -0.005203   \n",
       "ip.flags.df       0.007954  0.431258  0.958989    0.702419  0.955791   \n",
       "frame.time        1.000000  0.016657  0.011796    0.017744  0.012627   \n",
       "Packets           0.016657  1.000000  0.664623    0.943771  0.676941   \n",
       "Bytes             0.011796  0.664623  1.000000    0.871255  0.998298   \n",
       "Tx Packets        0.017744  0.943771  0.871255    1.000000  0.880656   \n",
       "Tx Bytes          0.012627  0.676941  0.998298    0.880656  1.000000   \n",
       "Rx Packets        0.011910  0.885714  0.246033    0.682436  0.260067   \n",
       "Rx Bytes          0.011015  0.651617  0.998624    0.860272  0.993866   \n",
       "\n",
       "                Rx Packets  Rx Bytes  \n",
       "tcp.srcport      -0.035943  0.907412  \n",
       "frame.len        -0.020763  0.606216  \n",
       "tcp.flags.push   -0.013326 -0.003533  \n",
       "ip.flags.df      -0.032846  0.959077  \n",
       "frame.time        0.011910  0.011015  \n",
       "Packets           0.885714  0.651617  \n",
       "Bytes             0.246033  0.998624  \n",
       "Tx Packets        0.682436  0.860272  \n",
       "Tx Bytes          0.260067  0.993866  \n",
       "Rx Packets        1.000000  0.232701  \n",
       "Rx Bytes          0.232701  1.000000  "
      ]
     },
     "execution_count": 40,
     "metadata": {},
     "output_type": "execute_result"
    }
   ],
   "source": [
    "corr_matrix=ddos_data[numerical_features].corr()\n",
    "corr_matrix"
   ]
  },
  {
   "cell_type": "code",
   "execution_count": 41,
   "id": "42538cb7",
   "metadata": {
    "execution": {
     "iopub.execute_input": "2024-04-14T15:17:42.929548Z",
     "iopub.status.busy": "2024-04-14T15:17:42.928749Z",
     "iopub.status.idle": "2024-04-14T15:17:43.621220Z",
     "shell.execute_reply": "2024-04-14T15:17:43.620086Z"
    },
    "papermill": {
     "duration": 0.738824,
     "end_time": "2024-04-14T15:17:43.625094",
     "exception": false,
     "start_time": "2024-04-14T15:17:42.886270",
     "status": "completed"
    },
    "tags": []
   },
   "outputs": [
    {
     "data": {
      "image/png": "[encoded data removed]",
      "text/plain": [
       "<Figure size 1200x800 with 2 Axes>"
      ]
     },
     "metadata": {},
     "output_type": "display_data"
    }
   ],
   "source": [
    "plt.figure(figsize=(12, 8))\n",
    "sns.heatmap(corr_matrix, annot=True, cmap='coolwarm', fmt=\".2f\", linewidths=.5)\n",
    "plt.title('Correlation Heatmap of Numerical Features')\n",
    "plt.show()"
   ]
  },
  {
   "cell_type": "code",
   "execution_count": 42,
   "id": "98de473a",
   "metadata": {
    "execution": {
     "iopub.execute_input": "2024-04-14T15:17:43.713072Z",
     "iopub.status.busy": "2024-04-14T15:17:43.712679Z",
     "iopub.status.idle": "2024-04-14T15:17:43.759774Z",
     "shell.execute_reply": "2024-04-14T15:17:43.758638Z"
    },
    "papermill": {
     "duration": 0.093868,
     "end_time": "2024-04-14T15:17:43.762002",
     "exception": false,
     "start_time": "2024-04-14T15:17:43.668134",
     "status": "completed"
    },
    "tags": []
   },
   "outputs": [
    {
     "data": {
      "text/plain": [
       "Index(['tcp.flags.push', 'ip.flags.df'], dtype='object')"
      ]
     },
     "execution_count": 42,
     "metadata": {},
     "output_type": "execute_result"
    }
   ],
   "source": [
    "#Let's examine binary columns\n",
    "binary_features=ddos_data.columns[ddos_data.nunique() == 2]\n",
    "binary_features"
   ]
  },
  {
   "cell_type": "markdown",
   "id": "f61fa2e5",
   "metadata": {
    "papermill": {
     "duration": 0.043129,
     "end_time": "2024-04-14T15:17:43.848343",
     "exception": false,
     "start_time": "2024-04-14T15:17:43.805214",
     "status": "completed"
    },
    "tags": []
   },
   "source": [
    "We don't want to normalize binary features."
   ]
  },
  {
   "cell_type": "code",
   "execution_count": 43,
   "id": "63daabd6",
   "metadata": {
    "execution": {
     "iopub.execute_input": "2024-04-14T15:17:43.937937Z",
     "iopub.status.busy": "2024-04-14T15:17:43.936674Z",
     "iopub.status.idle": "2024-04-14T15:17:43.950817Z",
     "shell.execute_reply": "2024-04-14T15:17:43.949903Z"
    },
    "papermill": {
     "duration": 0.061606,
     "end_time": "2024-04-14T15:17:43.953444",
     "exception": false,
     "start_time": "2024-04-14T15:17:43.891838",
     "status": "completed"
    },
    "tags": []
   },
   "outputs": [],
   "source": [
    "numerical_features.remove('Tx Bytes')\n",
    "numerical_features.remove('Rx Bytes')\n",
    "ddos_data.drop(['Tx Bytes','Rx Bytes'],axis=1, inplace=True)\n",
    "numerical_features = [feature for feature in numerical_features if feature not in binary_features]"
   ]
  },
  {
   "cell_type": "code",
   "execution_count": 44,
   "id": "8a65ea8b",
   "metadata": {
    "execution": {
     "iopub.execute_input": "2024-04-14T15:17:44.041887Z",
     "iopub.status.busy": "2024-04-14T15:17:44.041123Z",
     "iopub.status.idle": "2024-04-14T15:17:44.048253Z",
     "shell.execute_reply": "2024-04-14T15:17:44.047137Z"
    },
    "papermill": {
     "duration": 0.054166,
     "end_time": "2024-04-14T15:17:44.050617",
     "exception": false,
     "start_time": "2024-04-14T15:17:43.996451",
     "status": "completed"
    },
    "tags": []
   },
   "outputs": [
    {
     "data": {
      "text/plain": [
       "['tcp.srcport',\n",
       " 'frame.len',\n",
       " 'frame.time',\n",
       " 'Packets',\n",
       " 'Bytes',\n",
       " 'Tx Packets',\n",
       " 'Rx Packets']"
      ]
     },
     "execution_count": 44,
     "metadata": {},
     "output_type": "execute_result"
    }
   ],
   "source": [
    "numerical_features "
   ]
  },
  {
   "cell_type": "markdown",
   "id": "876555dd",
   "metadata": {
    "papermill": {
     "duration": 0.043781,
     "end_time": "2024-04-14T15:17:44.138085",
     "exception": false,
     "start_time": "2024-04-14T15:17:44.094304",
     "status": "completed"
    },
    "tags": []
   },
   "source": []
  },
  {
   "cell_type": "code",
   "execution_count": 45,
   "id": "8dd2487c",
   "metadata": {
    "execution": {
     "iopub.execute_input": "2024-04-14T15:17:44.228885Z",
     "iopub.status.busy": "2024-04-14T15:17:44.227619Z",
     "iopub.status.idle": "2024-04-14T15:17:44.233247Z",
     "shell.execute_reply": "2024-04-14T15:17:44.232484Z"
    },
    "papermill": {
     "duration": 0.053614,
     "end_time": "2024-04-14T15:17:44.235425",
     "exception": false,
     "start_time": "2024-04-14T15:17:44.181811",
     "status": "completed"
    },
    "tags": []
   },
   "outputs": [],
   "source": [
    "def z_score_normalization(x):\n",
    "    return (x - x.mean()) / x.std()"
   ]
  },
  {
   "cell_type": "code",
   "execution_count": 46,
   "id": "1a35a398",
   "metadata": {
    "execution": {
     "iopub.execute_input": "2024-04-14T15:17:44.325388Z",
     "iopub.status.busy": "2024-04-14T15:17:44.324579Z",
     "iopub.status.idle": "2024-04-14T15:17:44.366401Z",
     "shell.execute_reply": "2024-04-14T15:17:44.365186Z"
    },
    "papermill": {
     "duration": 0.089789,
     "end_time": "2024-04-14T15:17:44.369195",
     "exception": false,
     "start_time": "2024-04-14T15:17:44.279406",
     "status": "completed"
    },
    "tags": []
   },
   "outputs": [
    {
     "data": {
      "text/plain": [
       "tcp.srcport    0\n",
       "frame.len      0\n",
       "frame.time     0\n",
       "Packets        0\n",
       "Bytes          0\n",
       "Tx Packets     0\n",
       "Rx Packets     0\n",
       "dtype: int64"
      ]
     },
     "execution_count": 46,
     "metadata": {},
     "output_type": "execute_result"
    }
   ],
   "source": [
    "ddos_data[numerical_features ] = ddos_data[numerical_features ].apply(z_score_normalization)\n",
    "ddos_data[numerical_features ].isnull().sum()"
   ]
  },
  {
   "cell_type": "markdown",
   "id": "7576fd86",
   "metadata": {
    "papermill": {
     "duration": 0.044101,
     "end_time": "2024-04-14T15:17:44.458935",
     "exception": false,
     "start_time": "2024-04-14T15:17:44.414834",
     "status": "completed"
    },
    "tags": []
   },
   "source": [
    "## Labeling Catgorical data:"
   ]
  },
  {
   "cell_type": "markdown",
   "id": "4928fd0f",
   "metadata": {
    "papermill": {
     "duration": 0.043568,
     "end_time": "2024-04-14T15:17:44.547199",
     "exception": false,
     "start_time": "2024-04-14T15:17:44.503631",
     "status": "completed"
    },
    "tags": []
   },
   "source": [
    "If we were to use sigmoid as the final activation of our neural network we have to encode the Label column using LabelEncoder.\n",
    "If we're using softmax a.k.a classifying into 3 classes, we use One Hot encoder."
   ]
  },
  {
   "cell_type": "code",
   "execution_count": 47,
   "id": "d9fb65b7",
   "metadata": {
    "execution": {
     "iopub.execute_input": "2024-04-14T15:17:44.639004Z",
     "iopub.status.busy": "2024-04-14T15:17:44.638568Z",
     "iopub.status.idle": "2024-04-14T15:17:44.643527Z",
     "shell.execute_reply": "2024-04-14T15:17:44.642615Z"
    },
    "papermill": {
     "duration": 0.053956,
     "end_time": "2024-04-14T15:17:44.645841",
     "exception": false,
     "start_time": "2024-04-14T15:17:44.591885",
     "status": "completed"
    },
    "tags": []
   },
   "outputs": [],
   "source": [
    "label_encoder=LabelEncoder()\n",
    "def Encode_ip_src_column():\n",
    "    ddos_data['ip.src']=label_encoder.fit_transform(ddos_data['ip.src'])"
   ]
  },
  {
   "cell_type": "code",
   "execution_count": 48,
   "id": "59e3782e",
   "metadata": {
    "execution": {
     "iopub.execute_input": "2024-04-14T15:17:44.738099Z",
     "iopub.status.busy": "2024-04-14T15:17:44.737672Z",
     "iopub.status.idle": "2024-04-14T15:17:44.743930Z",
     "shell.execute_reply": "2024-04-14T15:17:44.742580Z"
    },
    "papermill": {
     "duration": 0.055768,
     "end_time": "2024-04-14T15:17:44.746316",
     "exception": false,
     "start_time": "2024-04-14T15:17:44.690548",
     "status": "completed"
    },
    "tags": []
   },
   "outputs": [],
   "source": [
    "def Encode_Label_Column_1():\n",
    "    label_mapping = {'Benign': 0, 'DDoS-PSH-ACK': 1, 'DDoS-ACK': 1}\n",
    "    ddos_data['label_encoded']=label_encoder.fit_transform(ddos_data['Label'])\n",
    "    ddos_data['label_encoded'] = ddos_data['Label'].map(label_mapping)"
   ]
  },
  {
   "cell_type": "code",
   "execution_count": 49,
   "id": "ecad0320",
   "metadata": {
    "execution": {
     "iopub.execute_input": "2024-04-14T15:17:44.837898Z",
     "iopub.status.busy": "2024-04-14T15:17:44.837489Z",
     "iopub.status.idle": "2024-04-14T15:17:44.943294Z",
     "shell.execute_reply": "2024-04-14T15:17:44.942046Z"
    },
    "papermill": {
     "duration": 0.154709,
     "end_time": "2024-04-14T15:17:44.945961",
     "exception": false,
     "start_time": "2024-04-14T15:17:44.791252",
     "status": "completed"
    },
    "tags": []
   },
   "outputs": [],
   "source": [
    "Encode_ip_src_column()\n",
    "Encode_Label_Column_1()"
   ]
  },
  {
   "cell_type": "code",
   "execution_count": 50,
   "id": "f1a5f897",
   "metadata": {
    "execution": {
     "iopub.execute_input": "2024-04-14T15:17:45.036598Z",
     "iopub.status.busy": "2024-04-14T15:17:45.036148Z",
     "iopub.status.idle": "2024-04-14T15:17:45.045747Z",
     "shell.execute_reply": "2024-04-14T15:17:45.044898Z"
    },
    "papermill": {
     "duration": 0.05746,
     "end_time": "2024-04-14T15:17:45.047787",
     "exception": false,
     "start_time": "2024-04-14T15:17:44.990327",
     "status": "completed"
    },
    "tags": []
   },
   "outputs": [
    {
     "data": {
      "text/plain": [
       "label_encoded\n",
       "1    50018\n",
       "0    49982\n",
       "Name: count, dtype: int64"
      ]
     },
     "execution_count": 50,
     "metadata": {},
     "output_type": "execute_result"
    }
   ],
   "source": [
    "ddos_data['label_encoded'].value_counts()"
   ]
  },
  {
   "cell_type": "code",
   "execution_count": 51,
   "id": "9a42aef9",
   "metadata": {
    "execution": {
     "iopub.execute_input": "2024-04-14T15:17:45.137898Z",
     "iopub.status.busy": "2024-04-14T15:17:45.137457Z",
     "iopub.status.idle": "2024-04-14T15:17:45.147536Z",
     "shell.execute_reply": "2024-04-14T15:17:45.146627Z"
    },
    "papermill": {
     "duration": 0.058158,
     "end_time": "2024-04-14T15:17:45.149793",
     "exception": false,
     "start_time": "2024-04-14T15:17:45.091635",
     "status": "completed"
    },
    "tags": []
   },
   "outputs": [
    {
     "data": {
      "text/plain": [
       "ip.src\n",
       "7     7209\n",
       "2     7172\n",
       "12    7169\n",
       "10    7167\n",
       "0     7146\n",
       "8     7139\n",
       "5     7137\n",
       "11    7133\n",
       "9     7132\n",
       "3     7127\n",
       "1     7123\n",
       "6     7123\n",
       "13    7114\n",
       "4     7109\n",
       "Name: count, dtype: int64"
      ]
     },
     "execution_count": 51,
     "metadata": {},
     "output_type": "execute_result"
    }
   ],
   "source": [
    "ddos_data['ip.src'].value_counts()"
   ]
  },
  {
   "cell_type": "code",
   "execution_count": 52,
   "id": "fcf5933f",
   "metadata": {
    "execution": {
     "iopub.execute_input": "2024-04-14T15:17:45.241691Z",
     "iopub.status.busy": "2024-04-14T15:17:45.241212Z",
     "iopub.status.idle": "2024-04-14T15:17:45.246375Z",
     "shell.execute_reply": "2024-04-14T15:17:45.245411Z"
    },
    "papermill": {
     "duration": 0.054464,
     "end_time": "2024-04-14T15:17:45.248696",
     "exception": false,
     "start_time": "2024-04-14T15:17:45.194232",
     "status": "completed"
    },
    "tags": []
   },
   "outputs": [],
   "source": [
    "def Encode_Label_Column_2():\n",
    "    data1=pd.get_dummies(ddos_data,columns=['Label'],drop_first=False,dtype='int64')\n",
    "    return data1"
   ]
  },
  {
   "cell_type": "code",
   "execution_count": 53,
   "id": "df30d2bf",
   "metadata": {
    "execution": {
     "iopub.execute_input": "2024-04-14T15:17:45.341186Z",
     "iopub.status.busy": "2024-04-14T15:17:45.340761Z",
     "iopub.status.idle": "2024-04-14T15:17:45.402512Z",
     "shell.execute_reply": "2024-04-14T15:17:45.401518Z"
    },
    "papermill": {
     "duration": 0.112286,
     "end_time": "2024-04-14T15:17:45.405339",
     "exception": false,
     "start_time": "2024-04-14T15:17:45.293053",
     "status": "completed"
    },
    "tags": []
   },
   "outputs": [],
   "source": [
    "ddos_data=Encode_Label_Column_2()"
   ]
  },
  {
   "cell_type": "code",
   "execution_count": 54,
   "id": "258fb366",
   "metadata": {
    "execution": {
     "iopub.execute_input": "2024-04-14T15:17:45.497250Z",
     "iopub.status.busy": "2024-04-14T15:17:45.496320Z",
     "iopub.status.idle": "2024-04-14T15:17:45.519446Z",
     "shell.execute_reply": "2024-04-14T15:17:45.518599Z"
    },
    "papermill": {
     "duration": 0.072107,
     "end_time": "2024-04-14T15:17:45.521486",
     "exception": false,
     "start_time": "2024-04-14T15:17:45.449379",
     "status": "completed"
    },
    "tags": []
   },
   "outputs": [
    {
     "data": {
      "text/html": [
       "<div>\n",
       "<style scoped>\n",
       "    .dataframe tbody tr th:only-of-type {\n",
       "        vertical-align: middle;\n",
       "    }\n",
       "\n",
       "    .dataframe tbody tr th {\n",
       "        vertical-align: top;\n",
       "    }\n",
       "\n",
       "    .dataframe thead th {\n",
       "        text-align: right;\n",
       "    }\n",
       "</style>\n",
       "<table border=\"1\" class=\"dataframe\">\n",
       "  <thead>\n",
       "    <tr style=\"text-align: right;\">\n",
       "      <th></th>\n",
       "      <th>ip.src</th>\n",
       "      <th>tcp.srcport</th>\n",
       "      <th>frame.len</th>\n",
       "      <th>tcp.flags.push</th>\n",
       "      <th>ip.flags.df</th>\n",
       "      <th>frame.time</th>\n",
       "      <th>Packets</th>\n",
       "      <th>Bytes</th>\n",
       "      <th>Tx Packets</th>\n",
       "      <th>Rx Packets</th>\n",
       "      <th>label_encoded</th>\n",
       "      <th>Label_Benign</th>\n",
       "      <th>Label_DDoS-ACK</th>\n",
       "      <th>Label_DDoS-PSH-ACK</th>\n",
       "    </tr>\n",
       "  </thead>\n",
       "  <tbody>\n",
       "    <tr>\n",
       "      <th>0</th>\n",
       "      <td>10</td>\n",
       "      <td>-1.244308</td>\n",
       "      <td>-0.631886</td>\n",
       "      <td>0</td>\n",
       "      <td>0</td>\n",
       "      <td>0.912753</td>\n",
       "      <td>-0.504730</td>\n",
       "      <td>-0.981347</td>\n",
       "      <td>-0.771311</td>\n",
       "      <td>-0.032858</td>\n",
       "      <td>1</td>\n",
       "      <td>0</td>\n",
       "      <td>1</td>\n",
       "      <td>0</td>\n",
       "    </tr>\n",
       "    <tr>\n",
       "      <th>1</th>\n",
       "      <td>1</td>\n",
       "      <td>0.758051</td>\n",
       "      <td>-0.463376</td>\n",
       "      <td>0</td>\n",
       "      <td>1</td>\n",
       "      <td>1.088344</td>\n",
       "      <td>0.431411</td>\n",
       "      <td>0.940750</td>\n",
       "      <td>0.702668</td>\n",
       "      <td>-0.032858</td>\n",
       "      <td>0</td>\n",
       "      <td>1</td>\n",
       "      <td>0</td>\n",
       "      <td>0</td>\n",
       "    </tr>\n",
       "    <tr>\n",
       "      <th>2</th>\n",
       "      <td>9</td>\n",
       "      <td>-1.164277</td>\n",
       "      <td>-0.631886</td>\n",
       "      <td>1</td>\n",
       "      <td>0</td>\n",
       "      <td>-0.920395</td>\n",
       "      <td>-0.504730</td>\n",
       "      <td>-0.981347</td>\n",
       "      <td>-0.771311</td>\n",
       "      <td>-0.032858</td>\n",
       "      <td>1</td>\n",
       "      <td>0</td>\n",
       "      <td>0</td>\n",
       "      <td>1</td>\n",
       "    </tr>\n",
       "    <tr>\n",
       "      <th>3</th>\n",
       "      <td>3</td>\n",
       "      <td>0.879014</td>\n",
       "      <td>1.727259</td>\n",
       "      <td>1</td>\n",
       "      <td>1</td>\n",
       "      <td>-0.961652</td>\n",
       "      <td>0.431411</td>\n",
       "      <td>0.927384</td>\n",
       "      <td>0.702668</td>\n",
       "      <td>-0.032858</td>\n",
       "      <td>0</td>\n",
       "      <td>1</td>\n",
       "      <td>0</td>\n",
       "      <td>0</td>\n",
       "    </tr>\n",
       "    <tr>\n",
       "      <th>4</th>\n",
       "      <td>12</td>\n",
       "      <td>-0.792732</td>\n",
       "      <td>-0.631886</td>\n",
       "      <td>0</td>\n",
       "      <td>0</td>\n",
       "      <td>0.946089</td>\n",
       "      <td>-0.504730</td>\n",
       "      <td>-0.981347</td>\n",
       "      <td>-0.771311</td>\n",
       "      <td>-0.032858</td>\n",
       "      <td>1</td>\n",
       "      <td>0</td>\n",
       "      <td>1</td>\n",
       "      <td>0</td>\n",
       "    </tr>\n",
       "    <tr>\n",
       "      <th>...</th>\n",
       "      <td>...</td>\n",
       "      <td>...</td>\n",
       "      <td>...</td>\n",
       "      <td>...</td>\n",
       "      <td>...</td>\n",
       "      <td>...</td>\n",
       "      <td>...</td>\n",
       "      <td>...</td>\n",
       "      <td>...</td>\n",
       "      <td>...</td>\n",
       "      <td>...</td>\n",
       "      <td>...</td>\n",
       "      <td>...</td>\n",
       "      <td>...</td>\n",
       "    </tr>\n",
       "    <tr>\n",
       "      <th>99995</th>\n",
       "      <td>10</td>\n",
       "      <td>-1.044332</td>\n",
       "      <td>-0.631886</td>\n",
       "      <td>0</td>\n",
       "      <td>0</td>\n",
       "      <td>0.912753</td>\n",
       "      <td>-0.504730</td>\n",
       "      <td>-0.981347</td>\n",
       "      <td>-0.771311</td>\n",
       "      <td>-0.032858</td>\n",
       "      <td>1</td>\n",
       "      <td>0</td>\n",
       "      <td>1</td>\n",
       "      <td>0</td>\n",
       "    </tr>\n",
       "    <tr>\n",
       "      <th>99996</th>\n",
       "      <td>8</td>\n",
       "      <td>1.278763</td>\n",
       "      <td>-0.463376</td>\n",
       "      <td>0</td>\n",
       "      <td>1</td>\n",
       "      <td>0.909452</td>\n",
       "      <td>0.431411</td>\n",
       "      <td>0.895304</td>\n",
       "      <td>0.702668</td>\n",
       "      <td>-0.032858</td>\n",
       "      <td>0</td>\n",
       "      <td>1</td>\n",
       "      <td>0</td>\n",
       "      <td>0</td>\n",
       "    </tr>\n",
       "    <tr>\n",
       "      <th>99997</th>\n",
       "      <td>5</td>\n",
       "      <td>0.691460</td>\n",
       "      <td>1.727259</td>\n",
       "      <td>1</td>\n",
       "      <td>1</td>\n",
       "      <td>-0.979806</td>\n",
       "      <td>0.431411</td>\n",
       "      <td>0.927384</td>\n",
       "      <td>0.702668</td>\n",
       "      <td>-0.032858</td>\n",
       "      <td>0</td>\n",
       "      <td>1</td>\n",
       "      <td>0</td>\n",
       "      <td>0</td>\n",
       "    </tr>\n",
       "    <tr>\n",
       "      <th>99998</th>\n",
       "      <td>3</td>\n",
       "      <td>1.654278</td>\n",
       "      <td>-0.463376</td>\n",
       "      <td>0</td>\n",
       "      <td>1</td>\n",
       "      <td>1.057319</td>\n",
       "      <td>0.431411</td>\n",
       "      <td>1.149267</td>\n",
       "      <td>0.702668</td>\n",
       "      <td>-0.032858</td>\n",
       "      <td>0</td>\n",
       "      <td>1</td>\n",
       "      <td>0</td>\n",
       "      <td>0</td>\n",
       "    </tr>\n",
       "    <tr>\n",
       "      <th>99999</th>\n",
       "      <td>9</td>\n",
       "      <td>-1.303415</td>\n",
       "      <td>-0.631886</td>\n",
       "      <td>1</td>\n",
       "      <td>0</td>\n",
       "      <td>-0.920395</td>\n",
       "      <td>0.431411</td>\n",
       "      <td>-0.692631</td>\n",
       "      <td>-0.034322</td>\n",
       "      <td>1.002031</td>\n",
       "      <td>1</td>\n",
       "      <td>0</td>\n",
       "      <td>0</td>\n",
       "      <td>1</td>\n",
       "    </tr>\n",
       "  </tbody>\n",
       "</table>\n",
       "<p>100000 rows × 14 columns</p>\n",
       "</div>"
      ],
      "text/plain": [
       "       ip.src  tcp.srcport  frame.len  tcp.flags.push  ip.flags.df  \\\n",
       "0          10    -1.244308  -0.631886               0            0   \n",
       "1           1     0.758051  -0.463376               0            1   \n",
       "2           9    -1.164277  -0.631886               1            0   \n",
       "3           3     0.879014   1.727259               1            1   \n",
       "4          12    -0.792732  -0.631886               0            0   \n",
       "...       ...          ...        ...             ...          ...   \n",
       "99995      10    -1.044332  -0.631886               0            0   \n",
       "99996       8     1.278763  -0.463376               0            1   \n",
       "99997       5     0.691460   1.727259               1            1   \n",
       "99998       3     1.654278  -0.463376               0            1   \n",
       "99999       9    -1.303415  -0.631886               1            0   \n",
       "\n",
       "       frame.time   Packets     Bytes  Tx Packets  Rx Packets  label_encoded  \\\n",
       "0        0.912753 -0.504730 -0.981347   -0.771311   -0.032858              1   \n",
       "1        1.088344  0.431411  0.940750    0.702668   -0.032858              0   \n",
       "2       -0.920395 -0.504730 -0.981347   -0.771311   -0.032858              1   \n",
       "3       -0.961652  0.431411  0.927384    0.702668   -0.032858              0   \n",
       "4        0.946089 -0.504730 -0.981347   -0.771311   -0.032858              1   \n",
       "...           ...       ...       ...         ...         ...            ...   \n",
       "99995    0.912753 -0.504730 -0.981347   -0.771311   -0.032858              1   \n",
       "99996    0.909452  0.431411  0.895304    0.702668   -0.032858              0   \n",
       "99997   -0.979806  0.431411  0.927384    0.702668   -0.032858              0   \n",
       "99998    1.057319  0.431411  1.149267    0.702668   -0.032858              0   \n",
       "99999   -0.920395  0.431411 -0.692631   -0.034322    1.002031              1   \n",
       "\n",
       "       Label_Benign  Label_DDoS-ACK  Label_DDoS-PSH-ACK  \n",
       "0                 0               1                   0  \n",
       "1                 1               0                   0  \n",
       "2                 0               0                   1  \n",
       "3                 1               0                   0  \n",
       "4                 0               1                   0  \n",
       "...             ...             ...                 ...  \n",
       "99995             0               1                   0  \n",
       "99996             1               0                   0  \n",
       "99997             1               0                   0  \n",
       "99998             1               0                   0  \n",
       "99999             0               0                   1  \n",
       "\n",
       "[100000 rows x 14 columns]"
      ]
     },
     "execution_count": 54,
     "metadata": {},
     "output_type": "execute_result"
    }
   ],
   "source": [
    "ddos_data"
   ]
  },
  {
   "cell_type": "markdown",
   "id": "f7979b05",
   "metadata": {
    "papermill": {
     "duration": 0.0442,
     "end_time": "2024-04-14T15:17:45.611162",
     "exception": false,
     "start_time": "2024-04-14T15:17:45.566962",
     "status": "completed"
    },
    "tags": []
   },
   "source": [
    "# Split train, test data:"
   ]
  },
  {
   "cell_type": "code",
   "execution_count": 55,
   "id": "c6d5a12c",
   "metadata": {
    "execution": {
     "iopub.execute_input": "2024-04-14T15:17:45.702786Z",
     "iopub.status.busy": "2024-04-14T15:17:45.702362Z",
     "iopub.status.idle": "2024-04-14T15:17:45.710203Z",
     "shell.execute_reply": "2024-04-14T15:17:45.709392Z"
    },
    "papermill": {
     "duration": 0.056472,
     "end_time": "2024-04-14T15:17:45.712319",
     "exception": false,
     "start_time": "2024-04-14T15:17:45.655847",
     "status": "completed"
    },
    "tags": []
   },
   "outputs": [],
   "source": [
    "y=ddos_data['label_encoded']\n",
    "X=ddos_data.drop(columns=['label_encoded','Label_Benign','Label_DDoS-ACK','Label_DDoS-PSH-ACK'])"
   ]
  },
  {
   "cell_type": "code",
   "execution_count": 56,
   "id": "ebd71286",
   "metadata": {
    "execution": {
     "iopub.execute_input": "2024-04-14T15:17:45.805360Z",
     "iopub.status.busy": "2024-04-14T15:17:45.804629Z",
     "iopub.status.idle": "2024-04-14T15:17:45.810646Z",
     "shell.execute_reply": "2024-04-14T15:17:45.809673Z"
    },
    "papermill": {
     "duration": 0.05483,
     "end_time": "2024-04-14T15:17:45.812785",
     "exception": false,
     "start_time": "2024-04-14T15:17:45.757955",
     "status": "completed"
    },
    "tags": []
   },
   "outputs": [
    {
     "data": {
      "text/plain": [
       "Index(['ip.src', 'tcp.srcport', 'frame.len', 'tcp.flags.push', 'ip.flags.df',\n",
       "       'frame.time', 'Packets', 'Bytes', 'Tx Packets', 'Rx Packets'],\n",
       "      dtype='object')"
      ]
     },
     "execution_count": 56,
     "metadata": {},
     "output_type": "execute_result"
    }
   ],
   "source": [
    "X.columns"
   ]
  },
  {
   "cell_type": "code",
   "execution_count": 57,
   "id": "9825fd17",
   "metadata": {
    "execution": {
     "iopub.execute_input": "2024-04-14T15:17:45.905325Z",
     "iopub.status.busy": "2024-04-14T15:17:45.904668Z",
     "iopub.status.idle": "2024-04-14T15:17:45.919459Z",
     "shell.execute_reply": "2024-04-14T15:17:45.918642Z"
    },
    "papermill": {
     "duration": 0.063682,
     "end_time": "2024-04-14T15:17:45.921616",
     "exception": false,
     "start_time": "2024-04-14T15:17:45.857934",
     "status": "completed"
    },
    "tags": []
   },
   "outputs": [
    {
     "data": {
      "text/html": [
       "<div>\n",
       "<style scoped>\n",
       "    .dataframe tbody tr th:only-of-type {\n",
       "        vertical-align: middle;\n",
       "    }\n",
       "\n",
       "    .dataframe tbody tr th {\n",
       "        vertical-align: top;\n",
       "    }\n",
       "\n",
       "    .dataframe thead th {\n",
       "        text-align: right;\n",
       "    }\n",
       "</style>\n",
       "<table border=\"1\" class=\"dataframe\">\n",
       "  <thead>\n",
       "    <tr style=\"text-align: right;\">\n",
       "      <th></th>\n",
       "      <th>ip.src</th>\n",
       "      <th>tcp.srcport</th>\n",
       "      <th>frame.len</th>\n",
       "      <th>tcp.flags.push</th>\n",
       "      <th>ip.flags.df</th>\n",
       "      <th>frame.time</th>\n",
       "      <th>Packets</th>\n",
       "      <th>Bytes</th>\n",
       "      <th>Tx Packets</th>\n",
       "      <th>Rx Packets</th>\n",
       "    </tr>\n",
       "  </thead>\n",
       "  <tbody>\n",
       "    <tr>\n",
       "      <th>0</th>\n",
       "      <td>10</td>\n",
       "      <td>-1.244308</td>\n",
       "      <td>-0.631886</td>\n",
       "      <td>0</td>\n",
       "      <td>0</td>\n",
       "      <td>0.912753</td>\n",
       "      <td>-0.504730</td>\n",
       "      <td>-0.981347</td>\n",
       "      <td>-0.771311</td>\n",
       "      <td>-0.032858</td>\n",
       "    </tr>\n",
       "    <tr>\n",
       "      <th>1</th>\n",
       "      <td>1</td>\n",
       "      <td>0.758051</td>\n",
       "      <td>-0.463376</td>\n",
       "      <td>0</td>\n",
       "      <td>1</td>\n",
       "      <td>1.088344</td>\n",
       "      <td>0.431411</td>\n",
       "      <td>0.940750</td>\n",
       "      <td>0.702668</td>\n",
       "      <td>-0.032858</td>\n",
       "    </tr>\n",
       "    <tr>\n",
       "      <th>2</th>\n",
       "      <td>9</td>\n",
       "      <td>-1.164277</td>\n",
       "      <td>-0.631886</td>\n",
       "      <td>1</td>\n",
       "      <td>0</td>\n",
       "      <td>-0.920395</td>\n",
       "      <td>-0.504730</td>\n",
       "      <td>-0.981347</td>\n",
       "      <td>-0.771311</td>\n",
       "      <td>-0.032858</td>\n",
       "    </tr>\n",
       "    <tr>\n",
       "      <th>3</th>\n",
       "      <td>3</td>\n",
       "      <td>0.879014</td>\n",
       "      <td>1.727259</td>\n",
       "      <td>1</td>\n",
       "      <td>1</td>\n",
       "      <td>-0.961652</td>\n",
       "      <td>0.431411</td>\n",
       "      <td>0.927384</td>\n",
       "      <td>0.702668</td>\n",
       "      <td>-0.032858</td>\n",
       "    </tr>\n",
       "    <tr>\n",
       "      <th>4</th>\n",
       "      <td>12</td>\n",
       "      <td>-0.792732</td>\n",
       "      <td>-0.631886</td>\n",
       "      <td>0</td>\n",
       "      <td>0</td>\n",
       "      <td>0.946089</td>\n",
       "      <td>-0.504730</td>\n",
       "      <td>-0.981347</td>\n",
       "      <td>-0.771311</td>\n",
       "      <td>-0.032858</td>\n",
       "    </tr>\n",
       "  </tbody>\n",
       "</table>\n",
       "</div>"
      ],
      "text/plain": [
       "   ip.src  tcp.srcport  frame.len  tcp.flags.push  ip.flags.df  frame.time  \\\n",
       "0      10    -1.244308  -0.631886               0            0    0.912753   \n",
       "1       1     0.758051  -0.463376               0            1    1.088344   \n",
       "2       9    -1.164277  -0.631886               1            0   -0.920395   \n",
       "3       3     0.879014   1.727259               1            1   -0.961652   \n",
       "4      12    -0.792732  -0.631886               0            0    0.946089   \n",
       "\n",
       "    Packets     Bytes  Tx Packets  Rx Packets  \n",
       "0 -0.504730 -0.981347   -0.771311   -0.032858  \n",
       "1  0.431411  0.940750    0.702668   -0.032858  \n",
       "2 -0.504730 -0.981347   -0.771311   -0.032858  \n",
       "3  0.431411  0.927384    0.702668   -0.032858  \n",
       "4 -0.504730 -0.981347   -0.771311   -0.032858  "
      ]
     },
     "execution_count": 57,
     "metadata": {},
     "output_type": "execute_result"
    }
   ],
   "source": [
    "X.head()"
   ]
  },
  {
   "cell_type": "code",
   "execution_count": null,
   "id": "15491173",
   "metadata": {},
   "outputs": [],
   "source": []
  },
  {
   "cell_type": "code",
   "execution_count": 58,
   "id": "13c6a03b",
   "metadata": {},
   "outputs": [],
   "source": [
    "X = X.drop(columns=[\"tcp.srcport\" ,\"Packets\",\"Bytes\",\"ip.flags.df\" ])"
   ]
  },
  {
   "cell_type": "code",
   "execution_count": 59,
   "id": "f1af6eca",
   "metadata": {},
   "outputs": [
    {
     "data": {
      "text/html": [
       "<div>\n",
       "<style scoped>\n",
       "    .dataframe tbody tr th:only-of-type {\n",
       "        vertical-align: middle;\n",
       "    }\n",
       "\n",
       "    .dataframe tbody tr th {\n",
       "        vertical-align: top;\n",
       "    }\n",
       "\n",
       "    .dataframe thead th {\n",
       "        text-align: right;\n",
       "    }\n",
       "</style>\n",
       "<table border=\"1\" class=\"dataframe\">\n",
       "  <thead>\n",
       "    <tr style=\"text-align: right;\">\n",
       "      <th></th>\n",
       "      <th>ip.src</th>\n",
       "      <th>frame.len</th>\n",
       "      <th>tcp.flags.push</th>\n",
       "      <th>frame.time</th>\n",
       "      <th>Tx Packets</th>\n",
       "      <th>Rx Packets</th>\n",
       "    </tr>\n",
       "  </thead>\n",
       "  <tbody>\n",
       "    <tr>\n",
       "      <th>0</th>\n",
       "      <td>10</td>\n",
       "      <td>-0.631886</td>\n",
       "      <td>0</td>\n",
       "      <td>0.912753</td>\n",
       "      <td>-0.771311</td>\n",
       "      <td>-0.032858</td>\n",
       "    </tr>\n",
       "    <tr>\n",
       "      <th>1</th>\n",
       "      <td>1</td>\n",
       "      <td>-0.463376</td>\n",
       "      <td>0</td>\n",
       "      <td>1.088344</td>\n",
       "      <td>0.702668</td>\n",
       "      <td>-0.032858</td>\n",
       "    </tr>\n",
       "    <tr>\n",
       "      <th>2</th>\n",
       "      <td>9</td>\n",
       "      <td>-0.631886</td>\n",
       "      <td>1</td>\n",
       "      <td>-0.920395</td>\n",
       "      <td>-0.771311</td>\n",
       "      <td>-0.032858</td>\n",
       "    </tr>\n",
       "    <tr>\n",
       "      <th>3</th>\n",
       "      <td>3</td>\n",
       "      <td>1.727259</td>\n",
       "      <td>1</td>\n",
       "      <td>-0.961652</td>\n",
       "      <td>0.702668</td>\n",
       "      <td>-0.032858</td>\n",
       "    </tr>\n",
       "    <tr>\n",
       "      <th>4</th>\n",
       "      <td>12</td>\n",
       "      <td>-0.631886</td>\n",
       "      <td>0</td>\n",
       "      <td>0.946089</td>\n",
       "      <td>-0.771311</td>\n",
       "      <td>-0.032858</td>\n",
       "    </tr>\n",
       "    <tr>\n",
       "      <th>...</th>\n",
       "      <td>...</td>\n",
       "      <td>...</td>\n",
       "      <td>...</td>\n",
       "      <td>...</td>\n",
       "      <td>...</td>\n",
       "      <td>...</td>\n",
       "    </tr>\n",
       "    <tr>\n",
       "      <th>99995</th>\n",
       "      <td>10</td>\n",
       "      <td>-0.631886</td>\n",
       "      <td>0</td>\n",
       "      <td>0.912753</td>\n",
       "      <td>-0.771311</td>\n",
       "      <td>-0.032858</td>\n",
       "    </tr>\n",
       "    <tr>\n",
       "      <th>99996</th>\n",
       "      <td>8</td>\n",
       "      <td>-0.463376</td>\n",
       "      <td>0</td>\n",
       "      <td>0.909452</td>\n",
       "      <td>0.702668</td>\n",
       "      <td>-0.032858</td>\n",
       "    </tr>\n",
       "    <tr>\n",
       "      <th>99997</th>\n",
       "      <td>5</td>\n",
       "      <td>1.727259</td>\n",
       "      <td>1</td>\n",
       "      <td>-0.979806</td>\n",
       "      <td>0.702668</td>\n",
       "      <td>-0.032858</td>\n",
       "    </tr>\n",
       "    <tr>\n",
       "      <th>99998</th>\n",
       "      <td>3</td>\n",
       "      <td>-0.463376</td>\n",
       "      <td>0</td>\n",
       "      <td>1.057319</td>\n",
       "      <td>0.702668</td>\n",
       "      <td>-0.032858</td>\n",
       "    </tr>\n",
       "    <tr>\n",
       "      <th>99999</th>\n",
       "      <td>9</td>\n",
       "      <td>-0.631886</td>\n",
       "      <td>1</td>\n",
       "      <td>-0.920395</td>\n",
       "      <td>-0.034322</td>\n",
       "      <td>1.002031</td>\n",
       "    </tr>\n",
       "  </tbody>\n",
       "</table>\n",
       "<p>100000 rows × 6 columns</p>\n",
       "</div>"
      ],
      "text/plain": [
       "       ip.src  frame.len  tcp.flags.push  frame.time  Tx Packets  Rx Packets\n",
       "0          10  -0.631886               0    0.912753   -0.771311   -0.032858\n",
       "1           1  -0.463376               0    1.088344    0.702668   -0.032858\n",
       "2           9  -0.631886               1   -0.920395   -0.771311   -0.032858\n",
       "3           3   1.727259               1   -0.961652    0.702668   -0.032858\n",
       "4          12  -0.631886               0    0.946089   -0.771311   -0.032858\n",
       "...       ...        ...             ...         ...         ...         ...\n",
       "99995      10  -0.631886               0    0.912753   -0.771311   -0.032858\n",
       "99996       8  -0.463376               0    0.909452    0.702668   -0.032858\n",
       "99997       5   1.727259               1   -0.979806    0.702668   -0.032858\n",
       "99998       3  -0.463376               0    1.057319    0.702668   -0.032858\n",
       "99999       9  -0.631886               1   -0.920395   -0.034322    1.002031\n",
       "\n",
       "[100000 rows x 6 columns]"
      ]
     },
     "execution_count": 59,
     "metadata": {},
     "output_type": "execute_result"
    }
   ],
   "source": [
    "X"
   ]
  },
  {
   "cell_type": "code",
   "execution_count": 60,
   "id": "94980a62",
   "metadata": {
    "execution": {
     "iopub.execute_input": "2024-04-14T15:17:46.014499Z",
     "iopub.status.busy": "2024-04-14T15:17:46.013770Z",
     "iopub.status.idle": "2024-04-14T15:17:46.036679Z",
     "shell.execute_reply": "2024-04-14T15:17:46.035389Z"
    },
    "papermill": {
     "duration": 0.072828,
     "end_time": "2024-04-14T15:17:46.039547",
     "exception": false,
     "start_time": "2024-04-14T15:17:45.966719",
     "status": "completed"
    },
    "tags": []
   },
   "outputs": [],
   "source": [
    "X_train_val, X_test, y_train_val, y_test=train_test_split(X,y,test_size=0.4,random_state=42)"
   ]
  },
  {
   "cell_type": "code",
   "execution_count": 61,
   "id": "5e5210a0",
   "metadata": {
    "execution": {
     "iopub.execute_input": "2024-04-14T15:17:46.133288Z",
     "iopub.status.busy": "2024-04-14T15:17:46.132178Z",
     "iopub.status.idle": "2024-04-14T15:17:46.156244Z",
     "shell.execute_reply": "2024-04-14T15:17:46.154784Z"
    },
    "papermill": {
     "duration": 0.074728,
     "end_time": "2024-04-14T15:17:46.158972",
     "exception": false,
     "start_time": "2024-04-14T15:17:46.084244",
     "status": "completed"
    },
    "tags": []
   },
   "outputs": [],
   "source": [
    "X_train, X_val, y_train, y_val = train_test_split(X_train_val, y_train_val, test_size=0.2, random_state=42)"
   ]
  },
  {
   "cell_type": "code",
   "execution_count": 62,
   "id": "c06d0c1a",
   "metadata": {
    "execution": {
     "iopub.execute_input": "2024-04-14T15:17:46.252286Z",
     "iopub.status.busy": "2024-04-14T15:17:46.251877Z",
     "iopub.status.idle": "2024-04-14T15:17:46.257751Z",
     "shell.execute_reply": "2024-04-14T15:17:46.256917Z"
    },
    "papermill": {
     "duration": 0.055182,
     "end_time": "2024-04-14T15:17:46.260204",
     "exception": false,
     "start_time": "2024-04-14T15:17:46.205022",
     "status": "completed"
    },
    "tags": []
   },
   "outputs": [],
   "source": [
    "corr = pd.concat([X,y] , axis=1)"
   ]
  },
  {
   "cell_type": "code",
   "execution_count": 63,
   "id": "8b7885a6",
   "metadata": {},
   "outputs": [
    {
     "data": {
      "text/plain": [
       "ip.src           -0.088180\n",
       "frame.len        -0.632117\n",
       "tcp.flags.push   -0.000140\n",
       "frame.time       -0.007954\n",
       "Tx Packets       -0.702419\n",
       "Rx Packets        0.032846\n",
       "label_encoded     1.000000\n",
       "Name: label_encoded, dtype: float64"
      ]
     },
     "execution_count": 63,
     "metadata": {},
     "output_type": "execute_result"
    }
   ],
   "source": [
    "corr.corr()[\"label_encoded\"]"
   ]
  },
  {
   "cell_type": "markdown",
   "id": "99bf0382",
   "metadata": {
    "papermill": {
     "duration": 0.045518,
     "end_time": "2024-04-14T15:17:46.350849",
     "exception": false,
     "start_time": "2024-04-14T15:17:46.305331",
     "status": "completed"
    },
    "tags": []
   },
   "source": [
    "The distribution of classes between the two train and test sets is even."
   ]
  },
  {
   "cell_type": "markdown",
   "id": "30fe9b84",
   "metadata": {
    "papermill": {
     "duration": 0.045601,
     "end_time": "2024-04-14T15:17:46.443464",
     "exception": false,
     "start_time": "2024-04-14T15:17:46.397863",
     "status": "completed"
    },
    "tags": []
   },
   "source": [
    "# Defining the deep learning model:"
   ]
  },
  {
   "cell_type": "code",
   "execution_count": 64,
   "id": "638c30a3",
   "metadata": {
    "execution": {
     "iopub.execute_input": "2024-04-14T15:17:46.537839Z",
     "iopub.status.busy": "2024-04-14T15:17:46.537163Z",
     "iopub.status.idle": "2024-04-14T15:17:46.636816Z",
     "shell.execute_reply": "2024-04-14T15:17:46.635735Z"
    },
    "papermill": {
     "duration": 0.149334,
     "end_time": "2024-04-14T15:17:46.639184",
     "exception": false,
     "start_time": "2024-04-14T15:17:46.489850",
     "status": "completed"
    },
    "tags": []
   },
   "outputs": [
    {
     "data": {
      "text/html": [
       "<pre style=\"white-space:pre;overflow-x:auto;line-height:normal;font-family:Menlo,'DejaVu Sans Mono',consolas,'Courier New',monospace\"><span style=\"font-weight: bold\">Model: \"sequential\"</span>\n",
       "</pre>\n"
      ],
      "text/plain": [
       "\u001b[1mModel: \"sequential\"\u001b[0m\n"
      ]
     },
     "metadata": {},
     "output_type": "display_data"
    },
    {
     "data": {
      "text/html": [
       "<pre style=\"white-space:pre;overflow-x:auto;line-height:normal;font-family:Menlo,'DejaVu Sans Mono',consolas,'Courier New',monospace\">┏━━━━━━━━━━━━━━━━━━━━━━━━━━━━━━━━━┳━━━━━━━━━━━━━━━━━━━━━━━━┳━━━━━━━━━━━━━━━┓\n",
       "┃<span style=\"font-weight: bold\"> Layer (type)                    </span>┃<span style=\"font-weight: bold\"> Output Shape           </span>┃<span style=\"font-weight: bold\">       Param # </span>┃\n",
       "┡━━━━━━━━━━━━━━━━━━━━━━━━━━━━━━━━━╇━━━━━━━━━━━━━━━━━━━━━━━━╇━━━━━━━━━━━━━━━┩\n",
       "│ Hidden_layer_1 (<span style=\"color: #0087ff; text-decoration-color: #0087ff\">Dense</span>)          │ (<span style=\"color: #00d7ff; text-decoration-color: #00d7ff\">None</span>, <span style=\"color: #00af00; text-decoration-color: #00af00\">5</span>)              │            <span style=\"color: #00af00; text-decoration-color: #00af00\">55</span> │\n",
       "├─────────────────────────────────┼────────────────────────┼───────────────┤\n",
       "│ Output_layer (<span style=\"color: #0087ff; text-decoration-color: #0087ff\">Dense</span>)            │ (<span style=\"color: #00d7ff; text-decoration-color: #00d7ff\">None</span>, <span style=\"color: #00af00; text-decoration-color: #00af00\">1</span>)              │             <span style=\"color: #00af00; text-decoration-color: #00af00\">6</span> │\n",
       "└─────────────────────────────────┴────────────────────────┴───────────────┘\n",
       "</pre>\n"
      ],
      "text/plain": [
       "┏━━━━━━━━━━━━━━━━━━━━━━━━━━━━━━━━━┳━━━━━━━━━━━━━━━━━━━━━━━━┳━━━━━━━━━━━━━━━┓\n",
       "┃\u001b[1m \u001b[0m\u001b[1mLayer (type)                   \u001b[0m\u001b[1m \u001b[0m┃\u001b[1m \u001b[0m\u001b[1mOutput Shape          \u001b[0m\u001b[1m \u001b[0m┃\u001b[1m \u001b[0m\u001b[1m      Param #\u001b[0m\u001b[1m \u001b[0m┃\n",
       "┡━━━━━━━━━━━━━━━━━━━━━━━━━━━━━━━━━╇━━━━━━━━━━━━━━━━━━━━━━━━╇━━━━━━━━━━━━━━━┩\n",
       "│ Hidden_layer_1 (\u001b[38;5;33mDense\u001b[0m)          │ (\u001b[38;5;45mNone\u001b[0m, \u001b[38;5;34m5\u001b[0m)              │            \u001b[38;5;34m55\u001b[0m │\n",
       "├─────────────────────────────────┼────────────────────────┼───────────────┤\n",
       "│ Output_layer (\u001b[38;5;33mDense\u001b[0m)            │ (\u001b[38;5;45mNone\u001b[0m, \u001b[38;5;34m1\u001b[0m)              │             \u001b[38;5;34m6\u001b[0m │\n",
       "└─────────────────────────────────┴────────────────────────┴───────────────┘\n"
      ]
     },
     "metadata": {},
     "output_type": "display_data"
    },
    {
     "data": {
      "text/html": [
       "<pre style=\"white-space:pre;overflow-x:auto;line-height:normal;font-family:Menlo,'DejaVu Sans Mono',consolas,'Courier New',monospace\"><span style=\"font-weight: bold\"> Total params: </span><span style=\"color: #00af00; text-decoration-color: #00af00\">61</span> (244.00 B)\n",
       "</pre>\n"
      ],
      "text/plain": [
       "\u001b[1m Total params: \u001b[0m\u001b[38;5;34m61\u001b[0m (244.00 B)\n"
      ]
     },
     "metadata": {},
     "output_type": "display_data"
    },
    {
     "data": {
      "text/html": [
       "<pre style=\"white-space:pre;overflow-x:auto;line-height:normal;font-family:Menlo,'DejaVu Sans Mono',consolas,'Courier New',monospace\"><span style=\"font-weight: bold\"> Trainable params: </span><span style=\"color: #00af00; text-decoration-color: #00af00\">61</span> (244.00 B)\n",
       "</pre>\n"
      ],
      "text/plain": [
       "\u001b[1m Trainable params: \u001b[0m\u001b[38;5;34m61\u001b[0m (244.00 B)\n"
      ]
     },
     "metadata": {},
     "output_type": "display_data"
    },
    {
     "data": {
      "text/html": [
       "<pre style=\"white-space:pre;overflow-x:auto;line-height:normal;font-family:Menlo,'DejaVu Sans Mono',consolas,'Courier New',monospace\"><span style=\"font-weight: bold\"> Non-trainable params: </span><span style=\"color: #00af00; text-decoration-color: #00af00\">0</span> (0.00 B)\n",
       "</pre>\n"
      ],
      "text/plain": [
       "\u001b[1m Non-trainable params: \u001b[0m\u001b[38;5;34m0\u001b[0m (0.00 B)\n"
      ]
     },
     "metadata": {},
     "output_type": "display_data"
    }
   ],
   "source": [
    "model=Sequential([\n",
    "    Input(shape=(10,)),\n",
    "    Dense(units=5,activation='relu',name='Hidden_layer_1',kernel_regularizer=L2(0.3)),\n",
    "    #Dense(units=2,activation='relu',name='Hidden_layer_2',kernel_regularizer=L2(0.3)),\n",
    "    Dense(units=1,activation='sigmoid',name='Output_layer',kernel_regularizer=L2(0.1))\n",
    "])\n",
    "model.compile(optimizer=Adam(learning_rate=1e-3),loss=BinaryCrossentropy(),metrics=['accuracy'])\n",
    "model.summary()"
   ]
  },
  {
   "cell_type": "code",
   "execution_count": 65,
   "id": "3e06163c",
   "metadata": {},
   "outputs": [
    {
     "name": "stdout",
     "output_type": "stream",
     "text": [
      "Epoch 1/10\n",
      "\u001b[1m1050/1050\u001b[0m \u001b[32m━━━━━━━━━━━━━━━━━━━━\u001b[0m\u001b[37m\u001b[0m \u001b[1m5s\u001b[0m 3ms/step - accuracy: 0.8753 - loss: 0.4001 - val_accuracy: 0.9052 - val_loss: 0.2833 - learning_rate: 0.0700\n",
      "Epoch 2/10\n",
      "\u001b[1m1050/1050\u001b[0m \u001b[32m━━━━━━━━━━━━━━━━━━━━\u001b[0m\u001b[37m\u001b[0m \u001b[1m3s\u001b[0m 3ms/step - accuracy: 0.8850 - loss: 0.3331 - val_accuracy: 0.9630 - val_loss: 0.2606 - learning_rate: 0.0700\n",
      "Epoch 3/10\n",
      "\u001b[1m1050/1050\u001b[0m \u001b[32m━━━━━━━━━━━━━━━━━━━━\u001b[0m\u001b[37m\u001b[0m \u001b[1m3s\u001b[0m 3ms/step - accuracy: 0.8910 - loss: 0.3135 - val_accuracy: 0.9052 - val_loss: 0.2730 - learning_rate: 0.0700\n",
      "Epoch 4/10\n",
      "\u001b[1m1050/1050\u001b[0m \u001b[32m━━━━━━━━━━━━━━━━━━━━\u001b[0m\u001b[37m\u001b[0m \u001b[1m3s\u001b[0m 3ms/step - accuracy: 0.8563 - loss: 0.3522 - val_accuracy: 0.9052 - val_loss: 0.3111 - learning_rate: 0.0700\n",
      "Epoch 5/10\n",
      "\u001b[1m1050/1050\u001b[0m \u001b[32m━━━━━━━━━━━━━━━━━━━━\u001b[0m\u001b[37m\u001b[0m \u001b[1m4s\u001b[0m 4ms/step - accuracy: 0.7814 - loss: 0.4665 - val_accuracy: 0.9052 - val_loss: 0.2909 - learning_rate: 0.0700\n",
      "Epoch 6/10\n",
      "\u001b[1m1050/1050\u001b[0m \u001b[32m━━━━━━━━━━━━━━━━━━━━\u001b[0m\u001b[37m\u001b[0m \u001b[1m4s\u001b[0m 3ms/step - accuracy: 0.7820 - loss: 0.4445 - val_accuracy: 0.9052 - val_loss: 0.3078 - learning_rate: 0.0350\n",
      "Epoch 7/10\n",
      "\u001b[1m1050/1050\u001b[0m \u001b[32m━━━━━━━━━━━━━━━━━━━━\u001b[0m\u001b[37m\u001b[0m \u001b[1m3s\u001b[0m 3ms/step - accuracy: 0.7634 - loss: 0.4682 - val_accuracy: 0.4965 - val_loss: 0.6977 - learning_rate: 0.0350\n",
      "\u001b[1m1250/1250\u001b[0m \u001b[32m━━━━━━━━━━━━━━━━━━━━\u001b[0m\u001b[37m\u001b[0m \u001b[1m2s\u001b[0m 1ms/step - accuracy: 0.9624 - loss: 0.2613\n",
      "Test Loss: 0.2596\n",
      "Test Accuracy: 0.9633\n"
     ]
    }
   ],
   "source": [
    "from keras.models import Model\n",
    "from keras.layers import Input, Conv1D, MaxPooling1D, LSTM, Dense, Dropout, Multiply, GlobalAveragePooling1D\n",
    "from keras.callbacks import EarlyStopping, ReduceLROnPlateau\n",
    "from keras.optimizers import Adam\n",
    "from keras.regularizers import l2\n",
    "from keras.regularizers import l2\n",
    "\n",
    "\n",
    "# Input layer\n",
    "input_layer = Input(shape= (X_train.shape[1],1))\n",
    "\n",
    "# CNN Layer with regularization\n",
    "conv1 = Conv1D( filters= 5 , kernel_size=3, activation='relu', padding='same')(input_layer)\n",
    "pool1 = MaxPooling1D(pool_size=2)(conv1)\n",
    "\n",
    "\n",
    "\n",
    "# Example of L2 regularization in an LSTM layer\n",
    "#hybrid_model.add\n",
    "# LSTM Layer with regularization\n",
    "\n",
    "\n",
    "lstm_out = LSTM(units=50, kernel_regularizer=l2(0.01), return_sequences=False)(pool1)\n",
    "#lstm_out = LSTM(units=10, return_sequences=False)(pool1)\n",
    "\n",
    "# Fully connected layer with L2 regularization and increased dropout\n",
    "dense_out = Dense(10, activation='relu', kernel_regularizer=l2(0.01))(lstm_out)\n",
    "dropout_out = Dropout(0.3)(dense_out)\n",
    "\n",
    "# Output layer for binary classification\n",
    "output_layer = Dense(1, activation='sigmoid')(dropout_out)\n",
    "\n",
    "# Build and compile the model\n",
    "hybrid_model = Model(inputs=input_layer, outputs=output_layer)\n",
    "hybrid_model.compile(optimizer=Adam(learning_rate=0.07), loss='binary_crossentropy', metrics=['accuracy'])\n",
    "\n",
    "# Early stopping with reduced patience\n",
    "early_stopping = EarlyStopping(monitor='val_loss', patience=5, restore_best_weights=True)\n",
    "reduce_lr = ReduceLROnPlateau(monitor='val_loss', factor=0.5, patience=3, min_lr=1e-5)\n",
    "\n",
    "# Train the model\n",
    "history = hybrid_model.fit(X_train, y_train,  epochs=10, verbose=1, validation_split=0.3, callbacks=[early_stopping, reduce_lr])\n",
    "\n",
    "# Evaluate the model\n",
    "test_loss, test_accuracy = hybrid_model.evaluate(X_test, y_test, verbose=1)\n",
    "print(f\"Test Loss: {test_loss:.4f}\")\n",
    "print(f\"Test Accuracy: {test_accuracy:.4f}\")\n"
   ]
  },
  {
   "cell_type": "code",
   "execution_count": 77,
   "id": "5ed4dd70",
   "metadata": {},
   "outputs": [
    {
     "name": "stdout",
     "output_type": "stream",
     "text": [
      "\u001b[1m1/1\u001b[0m \u001b[32m━━━━━━━━━━━━━━━━━━━━\u001b[0m\u001b[37m\u001b[0m \u001b[1m0s\u001b[0m 17ms/step\n",
      "\n",
      "Data Point 1:\n",
      "ip.src: 4.0\n",
      "frame.len: -0.6318860690775759\n",
      "tcp.flags.push: 0.0\n",
      "frame.time: 1.0286033735899096\n",
      "Tx Packets: 1.439657572338262\n",
      "Rx Packets: 3.0718087630830517\n",
      "Prediction: Not DDoS attack\n",
      "==================================================\n",
      "\u001b[1m1/1\u001b[0m \u001b[32m━━━━━━━━━━━━━━━━━━━━\u001b[0m\u001b[37m\u001b[0m \u001b[1m0s\u001b[0m 19ms/step\n",
      "\n",
      "Data Point 2:\n",
      "ip.src: 5.0\n",
      "frame.len: -0.4633757403158299\n",
      "tcp.flags.push: 0.0\n",
      "frame.time: 1.0200218395585894\n",
      "Tx Packets: 0.70266798359525\n",
      "Rx Packets: -0.032857720282282836\n",
      "Prediction: Not DDoS attack\n",
      "==================================================\n",
      "\u001b[1m1/1\u001b[0m \u001b[32m━━━━━━━━━━━━━━━━━━━━\u001b[0m\u001b[37m\u001b[0m \u001b[1m0s\u001b[0m 19ms/step\n",
      "\n",
      "Data Point 3:\n",
      "ip.src: 7.0\n",
      "frame.len: -0.4633757403158299\n",
      "tcp.flags.push: 0.0\n",
      "frame.time: 1.1038568258645642\n",
      "Tx Packets: 0.70266798359525\n",
      "Rx Packets: -0.032857720282282836\n",
      "Prediction: Not DDoS attack\n",
      "==================================================\n",
      "\u001b[1m1/1\u001b[0m \u001b[32m━━━━━━━━━━━━━━━━━━━━\u001b[0m\u001b[37m\u001b[0m \u001b[1m0s\u001b[0m 35ms/step\n",
      "\n",
      "Data Point 4:\n",
      "ip.src: 9.0\n",
      "frame.len: -0.6318860690775759\n",
      "tcp.flags.push: 0.0\n",
      "frame.time: 1.101216353854927\n",
      "Tx Packets: 0.70266798359525\n",
      "Rx Packets: 2.036919935294607\n",
      "Prediction: Not DDoS attack\n",
      "==================================================\n",
      "\u001b[1m1/1\u001b[0m \u001b[32m━━━━━━━━━━━━━━━━━━━━\u001b[0m\u001b[37m\u001b[0m \u001b[1m0s\u001b[0m 20ms/step\n",
      "\n",
      "Data Point 5:\n",
      "ip.src: 5.0\n",
      "frame.len: 1.7272585335868686\n",
      "tcp.flags.push: 1.0\n",
      "frame.time: -0.9804657667426425\n",
      "Tx Packets: 0.70266798359525\n",
      "Rx Packets: -0.032857720282282836\n",
      "Prediction: Not DDoS attack\n",
      "==================================================\n"
     ]
    }
   ],
   "source": [
    "# If X_test is a pandas DataFrame, you can use the column names directly\n",
    "feature_names = X_test.columns.tolist()\n",
    "\n",
    "# Now the feature_names list is populated and can be used to iterate over the features\n",
    "for i in range(5):  # Adjust the number of data points to show\n",
    "    data_point = X_test.iloc[i].values.reshape(1, -1)  # Get i-th data point, reshape for prediction\n",
    "    prediction = hybrid_model.predict(data_point)\n",
    "    predicted_label = 'DDoS attack' if prediction > 0.5 else 'Not DDoS attack'\n",
    "    \n",
    "    print(f\"\\nData Point {i + 1}:\")\n",
    "    # Display each feature's value and its name\n",
    "    for feature_name, feature_value in zip(feature_names, data_point.flatten()):\n",
    "        print(f\"{feature_name}: {feature_value}\")\n",
    "    \n",
    "    print(f\"Prediction: {predicted_label}\")\n",
    "    print(\"=\"*50)  # Separator for readability\n"
   ]
  },
  {
   "cell_type": "code",
   "execution_count": 356,
   "id": "57a293df",
   "metadata": {
    "execution": {
     "iopub.execute_input": "2024-04-14T15:18:16.360288Z",
     "iopub.status.busy": "2024-04-14T15:18:16.359832Z",
     "iopub.status.idle": "2024-04-14T15:18:16.611773Z",
     "shell.execute_reply": "2024-04-14T15:18:16.610764Z"
    },
    "papermill": {
     "duration": 0.323118,
     "end_time": "2024-04-14T15:18:16.614392",
     "exception": false,
     "start_time": "2024-04-14T15:18:16.291274",
     "status": "completed"
    },
    "tags": []
   },
   "outputs": [
    {
     "data": {
      "image/png": "[encoded data removed]",
      "text/plain": [
       "<Figure size 640x480 with 1 Axes>"
      ]
     },
     "metadata": {},
     "output_type": "display_data"
    }
   ],
   "source": [
    "accuracy = history_log.history['accuracy']\n",
    "val_accuracy = history_log.history['val_accuracy']\n",
    "plt.plot(epochs, accuracy , 'g', label = 'Training accuracy')\n",
    "plt.plot(epochs, val_accuracy , 'r', label = 'Validation accuracy')\n",
    "plt.title('Accuracy Scores v/s Number of Epochs')\n",
    "plt.xlabel('No. of Epochs')\n",
    "plt.ylabel('Accuracy Score')\n",
    "plt.legend()\n",
    "plt.show()"
   ]
  },
  {
   "cell_type": "code",
   "execution_count": null,
   "id": "289ee46d",
   "metadata": {},
   "outputs": [
    {
     "data": {
      "image/png": "[encoded data removed]",
      "text/plain": [
       "<Figure size 600x600 with 2 Axes>"
      ]
     },
     "metadata": {},
     "output_type": "display_data"
    }
   ],
   "source": [
    "from sklearn.metrics import confusion_matrix\n",
    "import seaborn as sns\n",
    "\n",
    "# Calculate confusion matrix\n",
    "cm = confusion_matrix(y_test, predictions_binary)\n",
    "\n",
    "# Plot confusion matrix\n",
    "plt.figure(figsize=(6,6))\n",
    "sns.heatmap(cm, annot=True, fmt='d', cmap='Blues', xticklabels=['Pred: 0', 'Pred: 1'], yticklabels=['True: 0', 'True: 1'])\n",
    "plt.title('Confusion Matrix')\n",
    "plt.xlabel('Predicted')\n",
    "plt.ylabel('True')\n",
    "plt.show()\n"
   ]
  },
  {
   "cell_type": "code",
   "execution_count": 75,
   "id": "7212dc32",
   "metadata": {},
   "outputs": [
    {
     "data": {
      "image/png": "[encoded data removed]",
      "text/plain": [
       "<Figure size 800x800 with 1 Axes>"
      ]
     },
     "metadata": {},
     "output_type": "display_data"
    }
   ],
   "source": [
    "from sklearn.metrics import roc_curve, auc\n",
    "\n",
    "# Calculate ROC curve\n",
    "fpr, tpr, thresholds = roc_curve(y_test, predictions)\n",
    "\n",
    "# Plot ROC curve\n",
    "plt.figure(figsize=(8,8))\n",
    "plt.plot(fpr, tpr, color='blue', label=f'ROC Curve (AUC = {auc(fpr, tpr):.2f})')\n",
    "plt.plot([0, 1], [0, 1], color='gray', linestyle='--')\n",
    "plt.title('ROC Curve')\n",
    "plt.xlabel('False Positive Rate')\n",
    "plt.ylabel('True Positive Rate')\n",
    "plt.legend(loc='lower right')\n",
    "plt.show()\n"
   ]
  },
  {
   "cell_type": "markdown",
   "id": "99c4fb01",
   "metadata": {
    "papermill": {
     "duration": 0.067309,
     "end_time": "2024-04-14T15:18:16.748652",
     "exception": false,
     "start_time": "2024-04-14T15:18:16.681343",
     "status": "completed"
    },
    "tags": []
   },
   "source": [
    "## Model evaluation for test set:"
   ]
  }
 ],
 "metadata": {
  "kaggle": {
   "accelerator": "none",
   "dataSources": [
    {
     "datasetId": 733598,
     "sourceId": 1272910,
     "sourceType": "datasetVersion"
    }
   ],
   "dockerImageVersionId": 30673,
   "isGpuEnabled": false,
   "isInternetEnabled": true,
   "language": "python",
   "sourceType": "notebook"
  },
  "kernelspec": {
   "display_name": "Python 3 (ipykernel)",
   "language": "python",
   "name": "python3"
  },
  "language_info": {
   "codemirror_mode": {
    "name": "ipython",
    "version": 3
   },
   "file_extension": ".py",
   "mimetype": "text/x-python",
   "name": "python",
   "nbconvert_exporter": "python",
   "pygments_lexer": "ipython3",
   "version": "3.12.4"
  },
  "papermill": {
   "default_parameters": {},
   "duration": 184.980023,
   "end_time": "2024-04-14T15:18:19.415733",
   "environment_variables": {},
   "exception": null,
   "input_path": "__notebook__.ipynb",
   "output_path": "__notebook__.ipynb",
   "parameters": {},
   "start_time": "2024-04-14T15:15:14.435710",
   "version": "2.5.0"
  }
 },
 "nbformat": 4,
 "nbformat_minor": 5
}
